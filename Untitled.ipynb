{
 "cells": [
  {
   "cell_type": "code",
   "execution_count": 2,
   "metadata": {
    "collapsed": false
   },
   "outputs": [],
   "source": [
    "%matplotlib inline\n",
    "\n",
    "import matplotlib\n",
    "import numpy as np\n",
    "from operator import add\n",
    "import matplotlib.pyplot as plt\n",
    "from pyspark.mllib.regression import LabeledPoint\n",
    "f=sc.textFile(\"train.csv\")\n",
    "trainRecord=f.filter(lambda x:\".\" in x).map(lambda x:x.split(\",\")).map(lambda x:[x[a] for a in [0,1,2,5,6,7,8,10,12]])\n",
    "testRecord=sc.textFile(\"test.csv\").filter(lambda x:\".\" in x).map(lambda x:x.split(\",\")).map(lambda x:[x[a] for a in [0,1,4,5,6,7,9,11]])\n",
    "def trainStand(l):\n",
    "#     gender\n",
    "    l[3]=[0,1] if l[3]==\"male\" else [1,0]\n",
    "#     class\n",
    "    if l[-1]!=\"\":\n",
    "        l[-1]=l[-1].replace('S',\"0\").replace(\"C\",\"1\").replace(\"Q\",\"2\")\n",
    "    else:\n",
    "        l[-1]=\"0\"\n",
    "    vec=np.zeros(3)\n",
    "    vec[int(l[-1])]=1\n",
    "    l=l[:3]+l[3]+l[4:-1]+(vec.tolist())\n",
    "    return l\n",
    "def testStand(l):\n",
    "#     gender\n",
    "    l[2]=[0,1] if l[2]==\"male\" else [1,0]\n",
    "#     class\n",
    "    if l[-1]!=\"\":\n",
    "        l[-1]=l[-1].replace('S',\"0\").replace(\"C\",\"1\").replace(\"Q\",\"2\")\n",
    "    else:\n",
    "        l[-1]=\"0\"\n",
    "    vec=np.zeros(3)\n",
    "    vec[int(l[-1])]=1\n",
    "    l=l[:2]+l[2]+l[3:-1]+(vec.tolist())\n",
    "    l[7]=7.5 if l[7]==\"\" else l[7]\n",
    "    return l\n",
    "oktrain=trainRecord.map(trainStand)\n",
    "oktest=testRecord.map(testStand)"
   ]
  },
  {
   "cell_type": "code",
   "execution_count": 3,
   "metadata": {
    "collapsed": false
   },
   "outputs": [
    {
     "data": {
      "text/plain": [
       "0.4"
      ]
     },
     "execution_count": 3,
     "metadata": {},
     "output_type": "execute_result"
    }
   ],
   "source": [
    "(1+3)/10"
   ]
  },
  {
   "cell_type": "code",
   "execution_count": 4,
   "metadata": {
    "collapsed": true
   },
   "outputs": [],
   "source": [
    "ageTrain=oktrain.filter(lambda x:x[5]!=\"\").map(lambda x:[float(a) for a in x]).map(lambda x:LabeledPoint(x[5],x[1:5]+x[6:]))\n",
    "ageTest=oktrain.filter(lambda x:x[5]==\"\").map(lambda x:[float(a) for a in x if a!=\"\"]).map(lambda x:LabeledPoint(x[0],x[1:]))\n",
    "tageTrain=oktest.filter(lambda x:x[4]!=\"\").map(lambda x:[float(a) for a in x]).map(lambda x:LabeledPoint(x[4],x[1:4]+x[5:]))\n",
    "tageTest=oktest.filter(lambda x:x[4]==\"\").map(lambda x:[float(a) for a in x if a!=\"\"]).map(lambda x:LabeledPoint(x[0],x[1:]))"
   ]
  },
  {
   "cell_type": "code",
   "execution_count": 199,
   "metadata": {
    "collapsed": true
   },
   "outputs": [],
   "source": [
    "t,tt=ageTrain.randomSplit([0.7,0.3])\n",
    "data=np.array(t.map(lambda x:x.features).collect())\n",
    "label=np.array(t.map(lambda x:x.label).collect())\n",
    "xgtrain = xgb.DMatrix( data, label=label)\n",
    "t=tt\n",
    "data=np.array(t.map(lambda x:x.features).collect())\n",
    "label=np.array(t.map(lambda x:x.label).collect())\n",
    "xgtest = xgb.DMatrix( data, label=label)"
   ]
  },
  {
   "cell_type": "code",
   "execution_count": 201,
   "metadata": {
    "collapsed": false
   },
   "outputs": [
    {
     "name": "stdout",
     "output_type": "stream",
     "text": [
      "[0]\ttrain-rmse:31.3173\tval-rmse:31.0098\n",
      "Multiple eval metrics have been passed: 'val-rmse' will be used for early stopping.\n",
      "\n",
      "Will train until val-rmse hasn't improved in 100 rounds.\n",
      "[1]\ttrain-rmse:30.0272\tval-rmse:29.7112\n",
      "[2]\ttrain-rmse:28.7993\tval-rmse:28.4545\n",
      "[3]\ttrain-rmse:27.6434\tval-rmse:27.2721\n",
      "[4]\ttrain-rmse:26.5633\tval-rmse:26.1607\n",
      "[5]\ttrain-rmse:25.5262\tval-rmse:25.1236\n",
      "[6]\ttrain-rmse:24.5576\tval-rmse:24.1299\n",
      "[7]\ttrain-rmse:23.6466\tval-rmse:23.2202\n",
      "[8]\ttrain-rmse:22.7922\tval-rmse:22.369\n",
      "[9]\ttrain-rmse:21.9917\tval-rmse:21.5737\n",
      "[10]\ttrain-rmse:21.226\tval-rmse:20.8256\n",
      "[11]\ttrain-rmse:20.5231\tval-rmse:20.1312\n",
      "[12]\ttrain-rmse:19.8666\tval-rmse:19.4849\n",
      "[13]\ttrain-rmse:19.2621\tval-rmse:18.8952\n",
      "[14]\ttrain-rmse:18.6712\tval-rmse:18.3193\n",
      "[15]\ttrain-rmse:18.1244\tval-rmse:17.784\n",
      "[16]\ttrain-rmse:17.6094\tval-rmse:17.2873\n",
      "[17]\ttrain-rmse:17.1444\tval-rmse:16.8402\n",
      "[18]\ttrain-rmse:16.7131\tval-rmse:16.4279\n",
      "[19]\ttrain-rmse:16.3012\tval-rmse:16.0238\n",
      "[20]\ttrain-rmse:15.9205\tval-rmse:15.6754\n",
      "[21]\ttrain-rmse:15.5665\tval-rmse:15.3298\n",
      "[22]\ttrain-rmse:15.2501\tval-rmse:15.0421\n",
      "[23]\ttrain-rmse:14.9473\tval-rmse:14.754\n",
      "[24]\ttrain-rmse:14.6548\tval-rmse:14.493\n",
      "[25]\ttrain-rmse:14.3851\tval-rmse:14.2551\n",
      "[26]\ttrain-rmse:14.1393\tval-rmse:14.0243\n",
      "[27]\ttrain-rmse:13.9031\tval-rmse:13.8244\n",
      "[28]\ttrain-rmse:13.6905\tval-rmse:13.6612\n",
      "[29]\ttrain-rmse:13.5011\tval-rmse:13.4848\n",
      "[30]\ttrain-rmse:13.3197\tval-rmse:13.3526\n",
      "[31]\ttrain-rmse:13.1521\tval-rmse:13.2166\n",
      "[32]\ttrain-rmse:12.9969\tval-rmse:13.0886\n",
      "[33]\ttrain-rmse:12.8687\tval-rmse:12.9911\n",
      "[34]\ttrain-rmse:12.7298\tval-rmse:12.8883\n",
      "[35]\ttrain-rmse:12.6048\tval-rmse:12.8092\n",
      "[36]\ttrain-rmse:12.4983\tval-rmse:12.7162\n",
      "[37]\ttrain-rmse:12.3964\tval-rmse:12.6486\n",
      "[38]\ttrain-rmse:12.3131\tval-rmse:12.587\n",
      "[39]\ttrain-rmse:12.2233\tval-rmse:12.5272\n",
      "[40]\ttrain-rmse:12.1406\tval-rmse:12.488\n",
      "[41]\ttrain-rmse:12.071\tval-rmse:12.4355\n",
      "[42]\ttrain-rmse:12.0018\tval-rmse:12.3978\n",
      "[43]\ttrain-rmse:11.9306\tval-rmse:12.3606\n",
      "[44]\ttrain-rmse:11.8731\tval-rmse:12.3225\n",
      "[45]\ttrain-rmse:11.8193\tval-rmse:12.2759\n",
      "[46]\ttrain-rmse:11.7709\tval-rmse:12.2489\n",
      "[47]\ttrain-rmse:11.7247\tval-rmse:12.2266\n",
      "[48]\ttrain-rmse:11.6882\tval-rmse:12.2092\n",
      "[49]\ttrain-rmse:11.6411\tval-rmse:12.1935\n",
      "[50]\ttrain-rmse:11.6067\tval-rmse:12.1742\n",
      "[51]\ttrain-rmse:11.5675\tval-rmse:12.1596\n",
      "[52]\ttrain-rmse:11.5363\tval-rmse:12.1488\n",
      "[53]\ttrain-rmse:11.5126\tval-rmse:12.1428\n",
      "[54]\ttrain-rmse:11.4828\tval-rmse:12.1374\n",
      "[55]\ttrain-rmse:11.462\tval-rmse:12.1318\n",
      "[56]\ttrain-rmse:11.4405\tval-rmse:12.1219\n",
      "[57]\ttrain-rmse:11.4237\tval-rmse:12.121\n",
      "[58]\ttrain-rmse:11.3991\tval-rmse:12.1199\n",
      "[59]\ttrain-rmse:11.3848\tval-rmse:12.1205\n",
      "[60]\ttrain-rmse:11.3717\tval-rmse:12.1223\n",
      "[61]\ttrain-rmse:11.3497\tval-rmse:12.1116\n",
      "[62]\ttrain-rmse:11.3327\tval-rmse:12.0987\n",
      "[63]\ttrain-rmse:11.3218\tval-rmse:12.0991\n",
      "[64]\ttrain-rmse:11.3002\tval-rmse:12.1015\n",
      "[65]\ttrain-rmse:11.2909\tval-rmse:12.1029\n",
      "[66]\ttrain-rmse:11.2824\tval-rmse:12.1045\n",
      "[67]\ttrain-rmse:11.2721\tval-rmse:12.1026\n",
      "[68]\ttrain-rmse:11.2491\tval-rmse:12.0957\n",
      "[69]\ttrain-rmse:11.2314\tval-rmse:12.096\n",
      "[70]\ttrain-rmse:11.2233\tval-rmse:12.0997\n",
      "[71]\ttrain-rmse:11.2035\tval-rmse:12.0931\n",
      "[72]\ttrain-rmse:11.1965\tval-rmse:12.0971\n",
      "[73]\ttrain-rmse:11.1817\tval-rmse:12.1001\n",
      "[74]\ttrain-rmse:11.1657\tval-rmse:12.1054\n",
      "[75]\ttrain-rmse:11.157\tval-rmse:12.1108\n",
      "[76]\ttrain-rmse:11.1426\tval-rmse:12.1165\n",
      "[77]\ttrain-rmse:11.137\tval-rmse:12.1205\n",
      "[78]\ttrain-rmse:11.1277\tval-rmse:12.1147\n",
      "[79]\ttrain-rmse:11.1181\tval-rmse:12.1163\n",
      "[80]\ttrain-rmse:11.1095\tval-rmse:12.118\n",
      "[81]\ttrain-rmse:11.1033\tval-rmse:12.1148\n",
      "[82]\ttrain-rmse:11.0982\tval-rmse:12.1187\n",
      "[83]\ttrain-rmse:11.0825\tval-rmse:12.1175\n",
      "[84]\ttrain-rmse:11.0778\tval-rmse:12.1219\n",
      "[85]\ttrain-rmse:11.0727\tval-rmse:12.1228\n",
      "[86]\ttrain-rmse:11.0655\tval-rmse:12.1293\n",
      "[87]\ttrain-rmse:11.0573\tval-rmse:12.1401\n",
      "[88]\ttrain-rmse:11.0528\tval-rmse:12.1441\n",
      "[89]\ttrain-rmse:11.0463\tval-rmse:12.1503\n",
      "[90]\ttrain-rmse:11.0422\tval-rmse:12.1512\n",
      "[91]\ttrain-rmse:11.0379\tval-rmse:12.1551\n",
      "[92]\ttrain-rmse:11.0313\tval-rmse:12.1508\n",
      "[93]\ttrain-rmse:11.0253\tval-rmse:12.1528\n",
      "[94]\ttrain-rmse:11.013\tval-rmse:12.1577\n",
      "[95]\ttrain-rmse:11.0089\tval-rmse:12.1615\n",
      "[96]\ttrain-rmse:11.0031\tval-rmse:12.1574\n",
      "[97]\ttrain-rmse:10.9977\tval-rmse:12.1595\n",
      "[98]\ttrain-rmse:10.9938\tval-rmse:12.1631\n",
      "[99]\ttrain-rmse:10.9888\tval-rmse:12.169\n",
      "[100]\ttrain-rmse:10.9841\tval-rmse:12.1711\n",
      "[101]\ttrain-rmse:10.9716\tval-rmse:12.1714\n",
      "[102]\ttrain-rmse:10.9645\tval-rmse:12.1779\n",
      "[103]\ttrain-rmse:10.9607\tval-rmse:12.1815\n",
      "[104]\ttrain-rmse:10.9564\tval-rmse:12.1834\n",
      "[105]\ttrain-rmse:10.947\tval-rmse:12.1868\n",
      "[106]\ttrain-rmse:10.9373\tval-rmse:12.1958\n",
      "[107]\ttrain-rmse:10.9338\tval-rmse:12.1992\n",
      "[108]\ttrain-rmse:10.9296\tval-rmse:12.2049\n",
      "[109]\ttrain-rmse:10.9259\tval-rmse:12.2067\n",
      "[110]\ttrain-rmse:10.9088\tval-rmse:12.2038\n",
      "[111]\ttrain-rmse:10.9053\tval-rmse:12.2071\n",
      "[112]\ttrain-rmse:10.9017\tval-rmse:12.2126\n",
      "[113]\ttrain-rmse:10.8899\tval-rmse:12.2148\n",
      "[114]\ttrain-rmse:10.8865\tval-rmse:12.218\n",
      "[115]\ttrain-rmse:10.8796\tval-rmse:12.2251\n",
      "[116]\ttrain-rmse:10.873\tval-rmse:12.2246\n",
      "[117]\ttrain-rmse:10.8622\tval-rmse:12.2293\n",
      "[118]\ttrain-rmse:10.8558\tval-rmse:12.2293\n",
      "[119]\ttrain-rmse:10.8526\tval-rmse:12.2323\n",
      "[120]\ttrain-rmse:10.8495\tval-rmse:12.2374\n",
      "[121]\ttrain-rmse:10.8465\tval-rmse:12.2391\n",
      "[122]\ttrain-rmse:10.8407\tval-rmse:12.2381\n",
      "[123]\ttrain-rmse:10.8325\tval-rmse:12.2382\n",
      "[124]\ttrain-rmse:10.8282\tval-rmse:12.2452\n",
      "[125]\ttrain-rmse:10.8255\tval-rmse:12.2502\n",
      "[126]\ttrain-rmse:10.8224\tval-rmse:12.2531\n",
      "[127]\ttrain-rmse:10.8193\tval-rmse:12.2533\n",
      "[128]\ttrain-rmse:10.8115\tval-rmse:12.2541\n",
      "[129]\ttrain-rmse:10.8063\tval-rmse:12.2544\n",
      "[130]\ttrain-rmse:10.8005\tval-rmse:12.2585\n",
      "[131]\ttrain-rmse:10.7976\tval-rmse:12.2613\n",
      "[132]\ttrain-rmse:10.7946\tval-rmse:12.2616\n",
      "[133]\ttrain-rmse:10.7919\tval-rmse:12.2621\n",
      "[134]\ttrain-rmse:10.7807\tval-rmse:12.2616\n",
      "[135]\ttrain-rmse:10.7755\tval-rmse:12.2656\n",
      "[136]\ttrain-rmse:10.773\tval-rmse:12.2661\n",
      "[137]\ttrain-rmse:10.769\tval-rmse:12.267\n",
      "[138]\ttrain-rmse:10.7535\tval-rmse:12.2674\n",
      "[139]\ttrain-rmse:10.7507\tval-rmse:12.27\n",
      "[140]\ttrain-rmse:10.7482\tval-rmse:12.2703\n",
      "[141]\ttrain-rmse:10.7462\tval-rmse:12.2665\n",
      "[142]\ttrain-rmse:10.7395\tval-rmse:12.2697\n",
      "[143]\ttrain-rmse:10.7385\tval-rmse:12.2725\n",
      "[144]\ttrain-rmse:10.7218\tval-rmse:12.2716\n",
      "[145]\ttrain-rmse:10.7197\tval-rmse:12.273\n",
      "[146]\ttrain-rmse:10.7161\tval-rmse:12.2738\n",
      "[147]\ttrain-rmse:10.7117\tval-rmse:12.2739\n",
      "[148]\ttrain-rmse:10.7095\tval-rmse:12.2743\n",
      "[149]\ttrain-rmse:10.7061\tval-rmse:12.2751\n",
      "[150]\ttrain-rmse:10.6984\tval-rmse:12.279\n",
      "[151]\ttrain-rmse:10.6844\tval-rmse:12.2788\n",
      "[152]\ttrain-rmse:10.6814\tval-rmse:12.2796\n",
      "[153]\ttrain-rmse:10.6748\tval-rmse:12.2879\n",
      "[154]\ttrain-rmse:10.6663\tval-rmse:12.2926\n",
      "[155]\ttrain-rmse:10.6654\tval-rmse:12.2945\n",
      "[156]\ttrain-rmse:10.6593\tval-rmse:12.2981\n",
      "[157]\ttrain-rmse:10.6566\tval-rmse:12.3045\n",
      "[158]\ttrain-rmse:10.6502\tval-rmse:12.3052\n",
      "[159]\ttrain-rmse:10.6478\tval-rmse:12.3114\n",
      "[160]\ttrain-rmse:10.6449\tval-rmse:12.3101\n",
      "[161]\ttrain-rmse:10.6423\tval-rmse:12.3107\n",
      "[162]\ttrain-rmse:10.6367\tval-rmse:12.3113\n",
      "[163]\ttrain-rmse:10.6237\tval-rmse:12.3123\n",
      "[164]\ttrain-rmse:10.6212\tval-rmse:12.3123\n",
      "[165]\ttrain-rmse:10.6186\tval-rmse:12.3112\n",
      "[166]\ttrain-rmse:10.6162\tval-rmse:12.3112\n",
      "[167]\ttrain-rmse:10.6137\tval-rmse:12.3102\n",
      "[168]\ttrain-rmse:10.6079\tval-rmse:12.3132\n",
      "[169]\ttrain-rmse:10.5949\tval-rmse:12.3142\n",
      "[170]\ttrain-rmse:10.5926\tval-rmse:12.3161\n",
      "[171]\ttrain-rmse:10.591\tval-rmse:12.3127\n",
      "Stopping. Best iteration:\n",
      "[71]\ttrain-rmse:11.2035\tval-rmse:12.0931\n",
      "\n"
     ]
    }
   ],
   "source": [
    "import xgboost as xgb\n",
    "from pyspark.mllib.util import MLUtils\n",
    "t,tt=ageTrain.randomSplit([0.7,0.3])\n",
    "data=np.array(t.map(lambda x:x.features).collect())\n",
    "label=np.array(t.map(lambda x:x.label).collect())\n",
    "xgtrain = xgb.DMatrix( data, label=label)\n",
    "t=tt\n",
    "data=np.array(t.map(lambda x:x.features).collect())\n",
    "label=np.array(t.map(lambda x:x.label).collect())\n",
    "xgtest = xgb.DMatrix( data, label=label)\n",
    "params={\n",
    "'booster':'gbtree',\n",
    "# 这里手写数字是0-9，是一个多类的问题，因此采用了multisoft多分类器，\n",
    "'objective': 'reg:linear', \n",
    "'subsample':1,\n",
    "'gamma':0.5,  # 在树的叶子节点下一个分区的最小损失，越大算法模型越保守 。[0:]\n",
    "'max_depth':3, # 构建树的深度 [1:]\n",
    "#'lambda':450,  # L2 正则项权重\n",
    "'colsample_bytree':0.8, # 构建树树时的采样比率 (0:1]\n",
    "'min_child_weight':9,\n",
    "'silent':1 ,\n",
    "'eta': 0.05, # 如同学习率\n",
    "'seed':710,\n",
    "'nthread':4,# cpu 线程数,根据自己U的个数适当调整\n",
    "}\n",
    "plst = list(params.items())\n",
    "\n",
    "# return 训练和验证的错误率\n",
    "watchlist = [(xgtrain, 'train'),(xgtest, 'val')]\n",
    "num_rounds=3000\n",
    "# training model \n",
    "# early_stopping_rounds 当设置的迭代次数较大时，early_stopping_rounds 可在一定的迭代次数内准确率没有提升就停止训练\n",
    "model = xgb.train(plst, xgtrain, num_rounds, watchlist,early_stopping_rounds=100)\n",
    "#model.save_model('./model/xgb.model') # 用于存储训练出的模型\n",
    "preds = model.predict(xgtest,ntree_limit=model.best_iteration)"
   ]
  },
  {
   "cell_type": "markdown",
   "metadata": {},
   "source": [
    "##### 11.8075"
   ]
  },
  {
   "cell_type": "code",
   "execution_count": 128,
   "metadata": {
    "collapsed": false
   },
   "outputs": [],
   "source": [
    "c=sc.parallelize(preds).coalesce(1)\n",
    "t=t.coalesce(1)\n",
    "c=c.zip(t)"
   ]
  },
  {
   "cell_type": "code",
   "execution_count": 198,
   "metadata": {
    "collapsed": false
   },
   "outputs": [
    {
     "data": {
      "text/plain": [
       "[(34.721249, LabeledPoint(35.0, [1.0,1.0,1.0,0.0,1.0,0.0,53.1,1.0,0.0,0.0])),\n",
       " (27.370525,\n",
       "  LabeledPoint(14.0, [1.0,2.0,1.0,0.0,1.0,0.0,30.0708,0.0,1.0,0.0])),\n",
       " (19.620182, LabeledPoint(4.0, [1.0,3.0,1.0,0.0,1.0,1.0,16.7,1.0,0.0,0.0])),\n",
       " (36.387539, LabeledPoint(58.0, [1.0,1.0,1.0,0.0,0.0,0.0,26.55,1.0,0.0,0.0])),\n",
       " (28.967094, LabeledPoint(20.0, [0.0,3.0,0.0,1.0,0.0,0.0,8.05,1.0,0.0,0.0])),\n",
       " (26.553856, LabeledPoint(31.0, [0.0,3.0,1.0,0.0,1.0,0.0,18.0,1.0,0.0,0.0])),\n",
       " (36.630352, LabeledPoint(35.0, [0.0,2.0,0.0,1.0,0.0,0.0,26.0,1.0,0.0,0.0])),\n",
       " (25.231407, LabeledPoint(15.0, [1.0,3.0,1.0,0.0,0.0,0.0,8.0292,0.0,0.0,1.0])),\n",
       " (11.863248,\n",
       "  LabeledPoint(14.0, [1.0,3.0,1.0,0.0,1.0,0.0,11.2417,0.0,1.0,0.0])),\n",
       " (24.651114, LabeledPoint(19.0, [1.0,3.0,1.0,0.0,0.0,0.0,7.8792,0.0,0.0,1.0])),\n",
       " (9.6435165, LabeledPoint(7.0, [0.0,3.0,0.0,1.0,4.0,1.0,39.6875,1.0,0.0,0.0])),\n",
       " (27.529533, LabeledPoint(21.0, [0.0,3.0,0.0,1.0,0.0,0.0,7.8,1.0,0.0,0.0])),\n",
       " (46.241108,\n",
       "  LabeledPoint(65.0, [0.0,1.0,0.0,1.0,0.0,1.0,61.9792,0.0,1.0,0.0])),\n",
       " (33.495522, LabeledPoint(21.0, [1.0,2.0,1.0,0.0,0.0,0.0,10.5,1.0,0.0,0.0])),\n",
       " (25.659897, LabeledPoint(28.5, [0.0,3.0,0.0,1.0,0.0,0.0,7.2292,0.0,1.0,0.0]))]"
      ]
     },
     "execution_count": 198,
     "metadata": {},
     "output_type": "execute_result"
    }
   ],
   "source": [
    "c.take(15)"
   ]
  },
  {
   "cell_type": "code",
   "execution_count": 202,
   "metadata": {
    "collapsed": false
   },
   "outputs": [
    {
     "name": "stdout",
     "output_type": "stream",
     "text": [
      "12.538592876925993|12.37497317799358|12.181161918120152\n",
      "12.77279992533524|12.355834297138987|12.328745073361858\n",
      "12.684290412265467|11.638312120455918|11.725481008350243\n",
      "10.982147692257357|10.967219440221314|10.751375779640403\n",
      "12.044904845954472|12.584925604513723|11.997180203451277\n",
      "61.02273575273853|59.92126464032352|58.98394398292394\n"
     ]
    }
   ],
   "source": [
    "from pyspark.mllib.tree import GradientBoostedTrees\n",
    "\n",
    "def eva(pred,actual):\n",
    "#     return(np.log(pred+1)-np.log(actual+1))**2\n",
    "    return (((pred-actual)**2)/cc)\n",
    "re=0\n",
    "re2=0\n",
    "re3=0\n",
    "\n",
    "for i in range(5):\n",
    "    (trainingData, testData) = ageTrain.randomSplit([0.7, 0.3])\n",
    "#     (trainingData, testData) = un.randomSplit([0.7, 0.3])\n",
    "    cc=testData.count()\n",
    "    model = RandomForest.trainRegressor(trainingData,\n",
    "                                     numTrees=4, featureSubsetStrategy=\"auto\",categoricalFeaturesInfo={},\n",
    "                                     maxDepth=6)\n",
    "    model2 = GradientBoostedTrees.trainRegressor(trainingData,\n",
    "                                     numIterations=15,categoricalFeaturesInfo={},\n",
    "                                     maxDepth=5,learningRate =0.003)\n",
    "#     model2 = LogisticRegressionWithLBFGS.train(parsedData,iteration,regParam =l2,regType='l1')\n",
    "    # Evaluating the model on training data\n",
    "    predictions = model.predict(testData.map(lambda x: x.features))\n",
    "    l=predictions\n",
    "    labelsAndPreds = testData.map(lambda lp: lp.label).zip(predictions)\n",
    "    t=labelsAndPreds.map(lambda x:eva(x[0],x[1])).reduce(add)**0.5\n",
    "    re+=t\n",
    "    predictions = model2.predict(testData.map(lambda x: x.features)) \n",
    "    l=l.zip(predictions).map(lambda x:(x[0]+x[1])/2)\n",
    "    labelsAndPreds2 = testData.map(lambda lp: lp.label).zip(predictions)\n",
    "    t2=labelsAndPreds2.map(lambda x:eva(x[0],x[1])).reduce(add)**0.5\n",
    "    re2+=t2\n",
    "    l=testData.map(lambda lp: lp.label).zip(l)\n",
    "    t3=l.map(lambda x:eva(x[0],x[1])).reduce(add)**0.5\n",
    "    re3+=t3\n",
    "    print(str(t)+\"|\"+str(t2)+\"|\"+str(t3))\n",
    "print(str(re)+\"|\"+str(re2)+\"|\"+str(re3))    "
   ]
  },
  {
   "cell_type": "code",
   "execution_count": 71,
   "metadata": {
    "collapsed": false
   },
   "outputs": [],
   "source": [
    "def changeAge(l):\n",
    "    l=l[1]\n",
    "    if l[1]!=None:\n",
    "        l[0][5]=l[1]\n",
    "    return l[0]\n",
    "re=0\n",
    "model = GradientBoostedTrees.trainRegressor(ageTrain,\n",
    "                                     numIterations=15,categoricalFeaturesInfo={},\n",
    "                                     maxDepth=5,learningRate =0.003)\n",
    "predictions = model.predict(ageTest.map(lambda x: x.features))\n",
    "# predictions.take(5)\n",
    "ageRe=ageTest.map(lambda lp: lp.label).zip(predictions)\n",
    "okAgeTrain=oktrain.map(lambda x:(int(x[0]),x)).leftOuterJoin(ageRe).map(changeAge)\n",
    "def changetAge(l):\n",
    "    l=l[1]\n",
    "    if l[1]!=None:\n",
    "        l[0][4]=l[1]\n",
    "    return l[0]\n",
    "union0=oktrain.filter(lambda x:x[5]!=\"\").map(lambda x:[float(a) for a in x]).map(lambda x:LabeledPoint(x[5],x[2:5]+x[6:]))\n",
    "un=union0.union(tageTrain)\n",
    "model = GradientBoostedTrees.trainRegressor(un,\n",
    "                                     numIterations=15,categoricalFeaturesInfo={},\n",
    "                                     maxDepth=5,learningRate =0.003)\n",
    "predictions = model.predict(tageTest.map(lambda x: x.features))\n",
    "# predictions.take(5)\n",
    "ageRe=tageTest.map(lambda lp: lp.label).zip(predictions)\n",
    "test=oktest.map(lambda x:(int(x[0]),x)).leftOuterJoin(ageRe).map(changetAge)"
   ]
  },
  {
   "cell_type": "code",
   "execution_count": 72,
   "metadata": {
    "collapsed": false
   },
   "outputs": [
    {
     "data": {
      "text/plain": [
       "['512', '0', '3', 0, 1, 29.862849962305777, '0', '0', '8.05', 1.0, 0.0, 0.0]"
      ]
     },
     "execution_count": 72,
     "metadata": {},
     "output_type": "execute_result"
    }
   ],
   "source": [
    "okAgeTrain.first()"
   ]
  },
  {
   "cell_type": "code",
   "execution_count": 47,
   "metadata": {
    "collapsed": false
   },
   "outputs": [
    {
     "data": {
      "text/plain": [
       "[<matplotlib.lines.Line2D at 0x8be02e8>]"
      ]
     },
     "execution_count": 47,
     "metadata": {},
     "output_type": "execute_result"
    },
    {
     "data": {
      "image/png": "[encoded data removed]",
      "text/plain": [
       "<matplotlib.figure.Figure at 0x8b36160>"
      ]
     },
     "metadata": {},
     "output_type": "display_data"
    }
   ],
   "source": [
    "from pyspark.mllib.regression import LabeledPoint\n",
    "from pyspark.mllib.classification import LogisticRegressionWithLBFGS, LogisticRegressionModel,LogisticRegressionWithSGD\n",
    "from pyspark.mllib.classification import SVMWithSGD, SVMModel,NaiveBayes, NaiveBayesModel\n",
    "def evaluate(data,iteration,l2):\n",
    "    re=0\n",
    "    for i in range(10):\n",
    "        (trainingData, testData) = data.randomSplit([0.7, 0.3])\n",
    "        model3 = GradientBoostedTrees.trainRegressor(trainingData,\n",
    "                                     numIterations=iteration,categoricalFeaturesInfo={},\n",
    "                                     maxDepth=l2,learningRate =0.001)\n",
    "        predictions = model3.predict(testData.map(lambda x: x.features))\n",
    "        labelsAndPreds = testData.map(lambda lp: lp.label).zip(predictions)\n",
    "        re+=labelsAndPreds.map(lambda x:eva(x[0],x[1])).reduce(add)\n",
    "    return re\n",
    "# parsedData=train.map(lambda x:[float(a) for a in x]).map(lambda x:LabeledPoint(x[1],x[2:]))\n",
    "iter=[20,25,30,35]\n",
    "out=[evaluate(un,it,5) for it in iter]\n",
    "plt.plot(iter,out)"
   ]
  },
  {
   "cell_type": "code",
   "execution_count": 5,
   "metadata": {
    "collapsed": true
   },
   "outputs": [],
   "source": [
    "train=okAgeTrain\n",
    "test=oktAgeTrain"
   ]
  },
  {
   "cell_type": "code",
   "execution_count": 157,
   "metadata": {
    "collapsed": false,
    "scrolled": true
   },
   "outputs": [
    {
     "data": {
      "text/plain": [
       "[<matplotlib.lines.Line2D at 0x65f70b0>]"
      ]
     },
     "execution_count": 157,
     "metadata": {},
     "output_type": "execute_result"
    },
    {
     "data": {
      "image/png": "[encoded data removed]",
      "text/plain": [
       "<matplotlib.figure.Figure at 0x78c4b90>"
      ]
     },
     "metadata": {},
     "output_type": "display_data"
    }
   ],
   "source": [
    "from pyspark.mllib.regression import LabeledPoint\n",
    "from pyspark.mllib.classification import LogisticRegressionWithLBFGS, LogisticRegressionModel,LogisticRegressionWithSGD\n",
    "from pyspark.mllib.classification import SVMWithSGD, SVMModel,NaiveBayes, NaiveBayesModel\n",
    "def evaluate(data,iteration,l2):\n",
    "    re=0\n",
    "    for i in range(10):\n",
    "        (trainingData, testData) = data.randomSplit([0.7, 0.3])\n",
    "        model2 = LogisticRegressionWithLBFGS.train(trainingData,iteration,regParam =l2,regType='l2')\n",
    "        # Evaluating the model on training data\n",
    "        labelsAndPreds2 = testData.map(lambda p: (p.label, model2.predict(p.features)))\n",
    "        re+=labelsAndPreds2.filter(lambda x:x[0]==x[1]).count()\n",
    "        return re\n",
    "parsedData=train.map(lambda x:[float(a) for a in x]).map(lambda x:LabeledPoint(x[1],x[2:]))\n",
    "iter=[0,0.00001,0.0001,0.001]\n",
    "out=[evaluate(parsedData,11,0.00001) for it in iter]\n",
    "plt.plot(iter,out)"
   ]
  },
  {
   "cell_type": "code",
   "execution_count": 166,
   "metadata": {
    "collapsed": false
   },
   "outputs": [],
   "source": [
    "result=test.map(lambda x:[float(a) for a in x]).map(lambda x:LabeledPoint(x[0],x[1:]))\n",
    "parsedData=train.map(lambda x:[float(a) for a in x]).map(lambda x:LabeledPoint(x[1],x[2:]))\n",
    "model = LogisticRegressionWithLBFGS.train(parsedData,11,regParam =0,regType='l2')\n",
    "    # Evaluating the model on training data\n",
    "result = result.map(lambda p: (str(int(p.label))+\",\"+str(model.predict(p.features))+\"\\n\"))\n",
    "a=result.collect()\n",
    "file_object = open('thefile3.csv', 'w')\n",
    "file_object.write(\"PassengerId,Survived\\n\")\n",
    "file_object.writelines(a)\n",
    "file_object.close( )"
   ]
  },
  {
   "cell_type": "code",
   "execution_count": 25,
   "metadata": {
    "collapsed": false
   },
   "outputs": [
    {
     "data": {
      "text/plain": [
       "[212, 212, 219, 223, 212, 228]"
      ]
     },
     "execution_count": 25,
     "metadata": {},
     "output_type": "execute_result"
    }
   ],
   "source": [
    "out"
   ]
  },
  {
   "cell_type": "code",
   "execution_count": 17,
   "metadata": {
    "collapsed": false
   },
   "outputs": [
    {
     "data": {
      "text/plain": [
       "[<matplotlib.lines.Line2D at 0x649c310>]"
      ]
     },
     "execution_count": 17,
     "metadata": {},
     "output_type": "execute_result"
    },
    {
     "data": {
      "image/png": "[encoded data removed]",
      "text/plain": [
       "<matplotlib.figure.Figure at 0x642bfd0>"
      ]
     },
     "metadata": {},
     "output_type": "display_data"
    }
   ],
   "source": [
    "from pyspark.mllib.regression import LabeledPoint\n",
    "from pyspark.mllib.classification import LogisticRegressionWithLBFGS, LogisticRegressionModel\n",
    "from pyspark.mllib.classification import SVMWithSGD, SVMModel\n",
    "from pyspark.mllib.tree import RandomForest\n",
    "\n",
    "def evaluate(data,tree,deth,l2,bin):\n",
    "    re=0\n",
    "    for i in range(5):\n",
    "        (trainingData, testData) = data.randomSplit([0.7, 0.3])\n",
    "        model = RandomForest.trainClassifier(trainingData, numClasses=2,\n",
    "                                         numTrees=tree, featureSubsetStrategy=\"auto\",categoricalFeaturesInfo={},\n",
    "                                         impurity='gini', maxDepth=deth, maxBins=bin)\n",
    "    #     model2 = LogisticRegressionWithLBFGS.train(parsedData,iteration,regParam =l2,regType='l1')\n",
    "        # Evaluating the model on training data\n",
    "        predictions = model.predict(testData.map(lambda x: x.features))\n",
    "        labelsAndPreds2 = testData.map(lambda lp: lp.label).zip(predictions)\n",
    "        re+=labelsAndPreds2.filter(lambda x:x[0]==x[1]).count()\n",
    "#     labelsAndPreds2 = testData.map(lambda p: (p.label, model.predict(p.features)))\n",
    "    return re\n",
    "parsedData=train.map(lambda x:[float(a) for a in x]).map(lambda x:LabeledPoint(x[1],x[2:]))\n",
    "iter=[16,24,32]\n",
    "out=[evaluate(parsedData,7,6,0,it)for it in iter]\n",
    "plt.plot(iter,out)"
   ]
  },
  {
   "cell_type": "code",
   "execution_count": null,
   "metadata": {
    "collapsed": true
   },
   "outputs": [],
   "source": [
    "result=test.map(lambda x:[float(a) for a in x]).map(lambda x:LabeledPoint(x[0],x[1:]))\n",
    "parsedData=train.map(lambda x:[float(a) for a in x]).map(lambda x:LabeledPoint(x[1],x[2:]))\n",
    "model = RandomForest.trainClassifier(parsedData, numClasses=2,\n",
    "                                 numTrees=7, featureSubsetStrategy=\"auto\",categoricalFeaturesInfo={},\n",
    "                                 impurity='gini', maxDepth=6, maxBins=32)\n",
    "#     model2 = LogisticRegressionWithLBFGS.train(parsedData,iteration,regParam =l2,regType='l1')\n",
    "# Evaluating the model on training data\n",
    "predictions = model.predict(result.map(lambda x: x.features))\n",
    "result = result.map(lambda lp: lp.label).zip(predictions).map(lambda x:str(int(x[0]))+\",\"+str(int(x[1]))+\"\\n\")\n",
    "a=result.collect()\n",
    "file_object = open('thefile2.csv', 'w')\n",
    "file_object.write(\"PassengerId,Survived\\n\")\n",
    "file_object.writelines(a)\n",
    "file_object.close( )"
   ]
  },
  {
   "cell_type": "code",
   "execution_count": 32,
   "metadata": {
    "collapsed": false,
    "scrolled": true
   },
   "outputs": [
    {
     "data": {
      "text/plain": [
       "[<matplotlib.lines.Line2D at 0x75526b0>]"
      ]
     },
     "execution_count": 32,
     "metadata": {},
     "output_type": "execute_result"
    },
    {
     "data": {
      "image/png": "[encoded data removed]",
      "text/plain": [
       "<matplotlib.figure.Figure at 0x741fe50>"
      ]
     },
     "metadata": {},
     "output_type": "display_data"
    }
   ],
   "source": [
    "from pyspark.mllib.regression import LabeledPoint\n",
    "from pyspark.mllib.classification import LogisticRegressionWithLBFGS, LogisticRegressionModel\n",
    "from pyspark.mllib.classification import SVMWithSGD, SVMModel\n",
    "from pyspark.mllib.tree import RandomForest\n",
    "from pyspark.mllib.tree import DecisionTree\n",
    "def evaluate(data,tree,deth,l2):\n",
    "    re=0\n",
    "    for i in range(2):\n",
    "        (trainingData, testData) = data.randomSplit([0.7, 0.3])\n",
    "        model=DecisionTree.trainClassifier(data, 2, {})\n",
    "        predictions = model.predict(testData.map(lambda x: x.features))\n",
    "        labelsAndPreds2 = testData.map(lambda lp: lp.label).zip(predictions)\n",
    "        re+=labelsAndPreds2.filter(lambda x:x[0]==x[1]).count()\n",
    "    return re/2\n",
    "dat=[]\n",
    "for i in range(1000):\n",
    "    temp=[]\n",
    "    a=random.randint(1,5000)\n",
    "    b=random.randint(1,5000)\n",
    "    temp.append(a)\n",
    "    temp.append(b)\n",
    "    if a>b:\n",
    "        temp.append(1)\n",
    "    else:\n",
    "        temp.append(0)\n",
    "    dat.append(temp)\n",
    "dat=sc.parallelize(dat)\n",
    "dat=dat.map(lambda x:LabeledPoint(x[2],x[:2]))\n",
    "iter=[1,2]\n",
    "out=[evaluate(dat,it,4,0)for it in iter]\n",
    "plt.plot(iter,out)"
   ]
  },
  {
   "cell_type": "code",
   "execution_count": 26,
   "metadata": {
    "collapsed": false
   },
   "outputs": [
    {
     "data": {
      "text/plain": [
       "1000"
      ]
     },
     "execution_count": 26,
     "metadata": {},
     "output_type": "execute_result"
    }
   ],
   "source": [
    "dat.count()"
   ]
  },
  {
   "cell_type": "code",
   "execution_count": 37,
   "metadata": {
    "collapsed": false
   },
   "outputs": [
    {
     "data": {
      "text/plain": [
       "[<matplotlib.lines.Line2D at 0x6612e30>]"
      ]
     },
     "execution_count": 37,
     "metadata": {},
     "output_type": "execute_result"
    },
    {
     "data": {
      "image/png": "[encoded data removed]",
      "text/plain": [
       "<matplotlib.figure.Figure at 0x65e92d0>"
      ]
     },
     "metadata": {},
     "output_type": "display_data"
    }
   ],
   "source": [
    "from pyspark.mllib.regression import LabeledPoint\n",
    "from pyspark.mllib.classification import LogisticRegressionWithLBFGS, LogisticRegressionModel\n",
    "from pyspark.mllib.classification import SVMWithSGD, SVMModel\n",
    "from pyspark.mllib.tree import RandomForest,GradientBoostedTrees, GradientBoostedTreesModel\n",
    "\n",
    "def evaluate(data,iteration,deth,l2):\n",
    "    re=0\n",
    "    for i in range(15):\n",
    "        (ndata, tdata) = data.randomSplit([0.7, 0.3])\n",
    "        model = GradientBoostedTrees.trainClassifier(ndata, {}, numIterations=iteration,maxDepth=deth,learningRate=l2)\n",
    "        predictions = model.predict(tdata.map(lambda x: x.features))\n",
    "        labelsAndPreds2 = tdata.map(lambda lp: lp.label).zip(predictions)\n",
    "        re+=labelsAndPreds2.filter(lambda x:x[0]==x[1]).count()\n",
    "    return re/15\n",
    "parsedData=okrecord.map(lambda x:[float(a) for a in x]).map(lambda x:LabeledPoint(x[1],x[2:]))\n",
    "iter=[1,2,3,4,5,7,9,11,13]\n",
    "out=[evaluate(parsedData,it,5,0.1)for it in iter]\n",
    "plt.plot(iter,out)"
   ]
  },
  {
   "cell_type": "code",
   "execution_count": 238,
   "metadata": {
    "collapsed": false
   },
   "outputs": [
    {
     "data": {
      "text/plain": [
       "[206.0, 227.0, 214.0, 215.8, 214.6, 212.6, 199.4, 211.6, 207.8]"
      ]
     },
     "execution_count": 238,
     "metadata": {},
     "output_type": "execute_result"
    }
   ],
   "source": [
    "out"
   ]
  },
  {
   "cell_type": "code",
   "execution_count": 222,
   "metadata": {
    "collapsed": false
   },
   "outputs": [
    {
     "data": {
      "text/plain": [
       "[222.2, 217.8, 226.6, 220.6, 211.0, 209.2, 222.2, 210.0]"
      ]
     },
     "execution_count": 222,
     "metadata": {},
     "output_type": "execute_result"
    }
   ],
   "source": [
    "out"
   ]
  },
  {
   "cell_type": "code",
   "execution_count": 220,
   "metadata": {
    "collapsed": false
   },
   "outputs": [
    {
     "data": {
      "text/plain": [
       "[218.2, 219.2, 214.8, 218.8, 218.0, 230.8, 221.6, 213.2]"
      ]
     },
     "execution_count": 220,
     "metadata": {},
     "output_type": "execute_result"
    }
   ],
   "source": [
    "out"
   ]
  },
  {
   "cell_type": "code",
   "execution_count": 50,
   "metadata": {
    "collapsed": false
   },
   "outputs": [],
   "source": [
    "f=sc.textFile(\"test.csv\")\n",
    "record=f.filter(lambda x:\".\" in x).map(lambda x:x.split(\",\")).map(lambda x:[x[a] for a in [0,1,4,5,6,7,9,11]])\n",
    "def stand(l):\n",
    "    l[2]=1 if l[2]==\"male\" else 0\n",
    "    l[3]=30 if l[3]==\"\" else l[3]\n",
    "    if l[-2]==\"\":\n",
    "        l[-2]=35\n",
    "    if l[-1]!=\"\":\n",
    "        l[-1]=l[-1].replace('S',\"0\").replace(\"C\",\"1\").replace(\"Q\",\"2\")\n",
    "    else:\n",
    "        l[-1]=\"0\"\n",
    "    vec=np.zeros(3)\n",
    "    vec[int(l[-1])]=1\n",
    "    l=l[:-1]+(vec.tolist())\n",
    "    return l\n",
    "testrecord=record.map(stand)"
   ]
  },
  {
   "cell_type": "code",
   "execution_count": 51,
   "metadata": {
    "collapsed": false
   },
   "outputs": [
    {
     "data": {
      "text/plain": [
       "[['892', '3', 1, '34.5', '0', '0', '7.8292', 0.0, 0.0, 1.0],\n",
       " ['893', '3', 0, '47', '1', '0', '7', 1.0, 0.0, 0.0],\n",
       " ['894', '2', 1, '62', '0', '0', '9.6875', 0.0, 0.0, 1.0],\n",
       " ['895', '3', 1, '27', '0', '0', '8.6625', 1.0, 0.0, 0.0],\n",
       " ['896', '3', 0, '22', '1', '1', '12.2875', 1.0, 0.0, 0.0]]"
      ]
     },
     "execution_count": 51,
     "metadata": {},
     "output_type": "execute_result"
    }
   ],
   "source": [
    "testrecord.take(5)"
   ]
  },
  {
   "cell_type": "code",
   "execution_count": 245,
   "metadata": {
    "collapsed": true
   },
   "outputs": [],
   "source": [
    "result=testrecord.map(lambda x:[float(a) for a in x]).map(lambda x:LabeledPoint(x[0],x[1:]))\n",
    "model = RandomForest.trainClassifier(parsedData, numClasses=2,\n",
    "                                 numTrees=4, featureSubsetStrategy=\"auto\",categoricalFeaturesInfo={},\n",
    "                                 impurity='gini', maxDepth=9, maxBins=32)\n",
    "#     model2 = LogisticRegressionWithLBFGS.train(parsedData,iteration,regParam =l2,regType='l1')\n",
    "# Evaluating the model on training data\n",
    "predictions = model.predict(result.map(lambda x: x.features))\n",
    "result = result.map(lambda lp: lp.label).zip(predictions).map(lambda x:str(int(x[0]))+\",\"+str(int(x[1]))+\"\\n\")\n",
    "a=result.collect()\n",
    "file_object = open('thefile2.csv', 'w')\n",
    "file_object.write(\"PassengerId,Survived\\n\")\n",
    "file_object.writelines(a)\n",
    "file_object.close( )"
   ]
  },
  {
   "cell_type": "code",
   "execution_count": 40,
   "metadata": {
    "collapsed": false
   },
   "outputs": [],
   "source": [
    "from pyspark.mllib.tree import RandomForest,GradientBoostedTrees, GradientBoostedTreesModel\n",
    "model = GradientBoostedTrees.trainClassifier(parsedData, {}, numIterations=13,maxDepth=4,learningRate=0.1)\n",
    "result=testrecord.map(lambda x:[float(a) for a in x]).map(lambda x:LabeledPoint(x[0],x[1:]))\n",
    "#     model2 = LogisticRegressionWithLBFGS.train(parsedData,iteration,regParam =l2,regType='l1')\n",
    "# Evaluating the model on training data\n",
    "predictions = model.predict(result.map(lambda x: x.features))\n",
    "result = result.map(lambda lp: lp.label).zip(predictions).map(lambda x:str(int(x[0]))+\",\"+str(int(x[1]))+\"\\n\")\n",
    "a=result.collect()\n",
    "file_object = open('thefile2.csv', 'w')\n",
    "file_object.write(\"PassengerId,Survived\\n\")\n",
    "file_object.writelines(a)\n",
    "file_object.close( )"
   ]
  },
  {
   "cell_type": "code",
   "execution_count": 57,
   "metadata": {
    "collapsed": false
   },
   "outputs": [],
   "source": [
    "result=testrecord.map(lambda x:[float(a) for a in x]).map(lambda x:LabeledPoint(x[0],x[1:]))\n",
    "model = LogisticRegressionWithLBFGS.train(parsedData,9,regParam =0,regType='l2')\n",
    "    # Evaluating the model on training data\n",
    "result = result.map(lambda p: (str(int(p.label))+\",\"+str(model.predict(p.features))+\"\\n\"))\n",
    "a=result.collect()\n",
    "file_object = open('thefile3.csv', 'w')\n",
    "file_object.write(\"PassengerId,Survived\\n\")\n",
    "file_object.writelines(a)\n",
    "file_object.close( )"
   ]
  },
  {
   "cell_type": "code",
   "execution_count": 143,
   "metadata": {
    "collapsed": false,
    "scrolled": true
   },
   "outputs": [
    {
     "data": {
      "text/plain": [
       "(array([  24.,   16.,    7.,    7.,   10.,    5.,    8.,   23.,   39.,\n",
       "          40.,   52.,   46.,   42.,   43.,  224.,   37.,   32.,   41.,\n",
       "          18.,   27.,   21.,   14.,   17.,   18.,   16.,   13.,    9.,\n",
       "           7.,    7.,    6.,    7.,    4.,    4.,    0.,    2.,    3.,\n",
       "           1.,    0.,    0.,    1.]),\n",
       " array([  0.42  ,   2.4095,   4.399 ,   6.3885,   8.378 ,  10.3675,\n",
       "         12.357 ,  14.3465,  16.336 ,  18.3255,  20.315 ,  22.3045,\n",
       "         24.294 ,  26.2835,  28.273 ,  30.2625,  32.252 ,  34.2415,\n",
       "         36.231 ,  38.2205,  40.21  ,  42.1995,  44.189 ,  46.1785,\n",
       "         48.168 ,  50.1575,  52.147 ,  54.1365,  56.126 ,  58.1155,\n",
       "         60.105 ,  62.0945,  64.084 ,  66.0735,  68.063 ,  70.0525,\n",
       "         72.042 ,  74.0315,  76.021 ,  78.0105,  80.    ]),\n",
       " <a list of 40 Patch objects>)"
      ]
     },
     "execution_count": 143,
     "metadata": {},
     "output_type": "execute_result"
    },
    {
     "data": {
      "image/png": "[encoded data removed]",
      "text/plain": [
       "<matplotlib.figure.Figure at 0x657a710>"
      ]
     },
     "metadata": {},
     "output_type": "display_data"
    }
   ],
   "source": [
    "sex=okrecord.map(lambda x:float(x[4])).collect()\n",
    "fig, (ax1, ax2) = plt.subplots(1, 2, figsize = (8, 4))\n",
    "ax1.hist(sex,bins=10)\n",
    "ax2.hist(sex,bins=40)"
   ]
  },
  {
   "cell_type": "code",
   "execution_count": 156,
   "metadata": {
    "collapsed": false
   },
   "outputs": [
    {
     "ename": "Py4JJavaError",
     "evalue": "An error occurred while calling z:org.apache.spark.api.python.PythonRDD.collectAndServe.\n: org.apache.spark.SparkException: Job aborted due to stage failure: Task 1 in stage 103.0 failed 1 times, most recent failure: Lost task 1.0 in stage 103.0 (TID 178, localhost): org.apache.spark.api.python.PythonException: Traceback (most recent call last):\n  File \"D:\\SOFT\\spark-1.6.1-bin-hadoop2.6\\python\\lib\\pyspark.zip\\pyspark\\worker.py\", line 111, in main\n  File \"D:\\SOFT\\spark-1.6.1-bin-hadoop2.6\\python\\lib\\pyspark.zip\\pyspark\\worker.py\", line 106, in process\n  File \"D:\\SOFT\\spark-1.6.1-bin-hadoop2.6\\python\\pyspark\\rdd.py\", line 2346, in pipeline_func\n    return func(split, prev_func(split, iterator))\n  File \"D:\\SOFT\\spark-1.6.1-bin-hadoop2.6\\python\\pyspark\\rdd.py\", line 2346, in pipeline_func\n    return func(split, prev_func(split, iterator))\n  File \"D:\\SOFT\\spark-1.6.1-bin-hadoop2.6\\python\\pyspark\\rdd.py\", line 317, in func\n    return f(iterator)\n  File \"D:\\SOFT\\spark-1.6.1-bin-hadoop2.6\\python\\pyspark\\rdd.py\", line 1014, in <lambda>\n    return self.mapPartitions(lambda i: [StatCounter(i)]).reduce(redFunc)\n  File \"D:\\SOFT\\spark-1.6.1-bin-hadoop2.6\\python\\lib\\pyspark.zip\\pyspark\\statcounter.py\", line 42, in __init__\n    for v in values:\n  File \"<ipython-input-156-2e049d21c2c8>\", line 1, in <lambda>\nNameError: name 'folat' is not defined\n\r\n\tat org.apache.spark.api.python.PythonRunner$$anon$1.read(PythonRDD.scala:166)\r\n\tat org.apache.spark.api.python.PythonRunner$$anon$1.<init>(PythonRDD.scala:207)\r\n\tat org.apache.spark.api.python.PythonRunner.compute(PythonRDD.scala:125)\r\n\tat org.apache.spark.api.python.PythonRDD.compute(PythonRDD.scala:70)\r\n\tat org.apache.spark.rdd.RDD.computeOrReadCheckpoint(RDD.scala:306)\r\n\tat org.apache.spark.rdd.RDD.iterator(RDD.scala:270)\r\n\tat org.apache.spark.scheduler.ResultTask.runTask(ResultTask.scala:66)\r\n\tat org.apache.spark.scheduler.Task.run(Task.scala:89)\r\n\tat org.apache.spark.executor.Executor$TaskRunner.run(Executor.scala:214)\r\n\tat java.util.concurrent.ThreadPoolExecutor.runWorker(ThreadPoolExecutor.java:1142)\r\n\tat java.util.concurrent.ThreadPoolExecutor$Worker.run(ThreadPoolExecutor.java:617)\r\n\tat java.lang.Thread.run(Thread.java:745)\r\n\nDriver stacktrace:\r\n\tat org.apache.spark.scheduler.DAGScheduler.org$apache$spark$scheduler$DAGScheduler$$failJobAndIndependentStages(DAGScheduler.scala:1431)\r\n\tat org.apache.spark.scheduler.DAGScheduler$$anonfun$abortStage$1.apply(DAGScheduler.scala:1419)\r\n\tat org.apache.spark.scheduler.DAGScheduler$$anonfun$abortStage$1.apply(DAGScheduler.scala:1418)\r\n\tat scala.collection.mutable.ResizableArray$class.foreach(ResizableArray.scala:59)\r\n\tat scala.collection.mutable.ArrayBuffer.foreach(ArrayBuffer.scala:47)\r\n\tat org.apache.spark.scheduler.DAGScheduler.abortStage(DAGScheduler.scala:1418)\r\n\tat org.apache.spark.scheduler.DAGScheduler$$anonfun$handleTaskSetFailed$1.apply(DAGScheduler.scala:799)\r\n\tat org.apache.spark.scheduler.DAGScheduler$$anonfun$handleTaskSetFailed$1.apply(DAGScheduler.scala:799)\r\n\tat scala.Option.foreach(Option.scala:236)\r\n\tat org.apache.spark.scheduler.DAGScheduler.handleTaskSetFailed(DAGScheduler.scala:799)\r\n\tat org.apache.spark.scheduler.DAGSchedulerEventProcessLoop.doOnReceive(DAGScheduler.scala:1640)\r\n\tat org.apache.spark.scheduler.DAGSchedulerEventProcessLoop.onReceive(DAGScheduler.scala:1599)\r\n\tat org.apache.spark.scheduler.DAGSchedulerEventProcessLoop.onReceive(DAGScheduler.scala:1588)\r\n\tat org.apache.spark.util.EventLoop$$anon$1.run(EventLoop.scala:48)\r\n\tat org.apache.spark.scheduler.DAGScheduler.runJob(DAGScheduler.scala:620)\r\n\tat org.apache.spark.SparkContext.runJob(SparkContext.scala:1832)\r\n\tat org.apache.spark.SparkContext.runJob(SparkContext.scala:1845)\r\n\tat org.apache.spark.SparkContext.runJob(SparkContext.scala:1858)\r\n\tat org.apache.spark.SparkContext.runJob(SparkContext.scala:1929)\r\n\tat org.apache.spark.rdd.RDD$$anonfun$collect$1.apply(RDD.scala:927)\r\n\tat org.apache.spark.rdd.RDDOperationScope$.withScope(RDDOperationScope.scala:150)\r\n\tat org.apache.spark.rdd.RDDOperationScope$.withScope(RDDOperationScope.scala:111)\r\n\tat org.apache.spark.rdd.RDD.withScope(RDD.scala:316)\r\n\tat org.apache.spark.rdd.RDD.collect(RDD.scala:926)\r\n\tat org.apache.spark.api.python.PythonRDD$.collectAndServe(PythonRDD.scala:405)\r\n\tat org.apache.spark.api.python.PythonRDD.collectAndServe(PythonRDD.scala)\r\n\tat sun.reflect.GeneratedMethodAccessor78.invoke(Unknown Source)\r\n\tat sun.reflect.DelegatingMethodAccessorImpl.invoke(DelegatingMethodAccessorImpl.java:43)\r\n\tat java.lang.reflect.Method.invoke(Method.java:498)\r\n\tat py4j.reflection.MethodInvoker.invoke(MethodInvoker.java:231)\r\n\tat py4j.reflection.ReflectionEngine.invoke(ReflectionEngine.java:381)\r\n\tat py4j.Gateway.invoke(Gateway.java:259)\r\n\tat py4j.commands.AbstractCommand.invokeMethod(AbstractCommand.java:133)\r\n\tat py4j.commands.CallCommand.execute(CallCommand.java:79)\r\n\tat py4j.GatewayConnection.run(GatewayConnection.java:209)\r\n\tat java.lang.Thread.run(Thread.java:745)\r\nCaused by: org.apache.spark.api.python.PythonException: Traceback (most recent call last):\n  File \"D:\\SOFT\\spark-1.6.1-bin-hadoop2.6\\python\\lib\\pyspark.zip\\pyspark\\worker.py\", line 111, in main\n  File \"D:\\SOFT\\spark-1.6.1-bin-hadoop2.6\\python\\lib\\pyspark.zip\\pyspark\\worker.py\", line 106, in process\n  File \"D:\\SOFT\\spark-1.6.1-bin-hadoop2.6\\python\\pyspark\\rdd.py\", line 2346, in pipeline_func\n    return func(split, prev_func(split, iterator))\n  File \"D:\\SOFT\\spark-1.6.1-bin-hadoop2.6\\python\\pyspark\\rdd.py\", line 2346, in pipeline_func\n    return func(split, prev_func(split, iterator))\n  File \"D:\\SOFT\\spark-1.6.1-bin-hadoop2.6\\python\\pyspark\\rdd.py\", line 317, in func\n    return f(iterator)\n  File \"D:\\SOFT\\spark-1.6.1-bin-hadoop2.6\\python\\pyspark\\rdd.py\", line 1014, in <lambda>\n    return self.mapPartitions(lambda i: [StatCounter(i)]).reduce(redFunc)\n  File \"D:\\SOFT\\spark-1.6.1-bin-hadoop2.6\\python\\lib\\pyspark.zip\\pyspark\\statcounter.py\", line 42, in __init__\n    for v in values:\n  File \"<ipython-input-156-2e049d21c2c8>\", line 1, in <lambda>\nNameError: name 'folat' is not defined\n\r\n\tat org.apache.spark.api.python.PythonRunner$$anon$1.read(PythonRDD.scala:166)\r\n\tat org.apache.spark.api.python.PythonRunner$$anon$1.<init>(PythonRDD.scala:207)\r\n\tat org.apache.spark.api.python.PythonRunner.compute(PythonRDD.scala:125)\r\n\tat org.apache.spark.api.python.PythonRDD.compute(PythonRDD.scala:70)\r\n\tat org.apache.spark.rdd.RDD.computeOrReadCheckpoint(RDD.scala:306)\r\n\tat org.apache.spark.rdd.RDD.iterator(RDD.scala:270)\r\n\tat org.apache.spark.scheduler.ResultTask.runTask(ResultTask.scala:66)\r\n\tat org.apache.spark.scheduler.Task.run(Task.scala:89)\r\n\tat org.apache.spark.executor.Executor$TaskRunner.run(Executor.scala:214)\r\n\tat java.util.concurrent.ThreadPoolExecutor.runWorker(ThreadPoolExecutor.java:1142)\r\n\tat java.util.concurrent.ThreadPoolExecutor$Worker.run(ThreadPoolExecutor.java:617)\r\n\t... 1 more\r\n",
     "output_type": "error",
     "traceback": [
      "\u001b[1;31m---------------------------------------------------------------------------\u001b[0m",
      "\u001b[1;31mPy4JJavaError\u001b[0m                             Traceback (most recent call last)",
      "\u001b[1;32m<ipython-input-156-2e049d21c2c8>\u001b[0m in \u001b[0;36m<module>\u001b[1;34m()\u001b[0m\n\u001b[1;32m----> 1\u001b[1;33m \u001b[0mokrecord\u001b[0m\u001b[1;33m.\u001b[0m\u001b[0mmap\u001b[0m\u001b[1;33m(\u001b[0m\u001b[1;32mlambda\u001b[0m \u001b[0mx\u001b[0m\u001b[1;33m:\u001b[0m\u001b[0mfolat\u001b[0m\u001b[1;33m(\u001b[0m\u001b[0mx\u001b[0m\u001b[1;33m[\u001b[0m\u001b[1;36m9\u001b[0m\u001b[1;33m]\u001b[0m\u001b[1;33m)\u001b[0m\u001b[1;33m)\u001b[0m\u001b[1;33m.\u001b[0m\u001b[0mstats\u001b[0m\u001b[1;33m(\u001b[0m\u001b[1;33m)\u001b[0m\u001b[1;33m\u001b[0m\u001b[0m\n\u001b[0m",
      "\u001b[1;32mD:\\SOFT\\spark-1.6.1-bin-hadoop2.6\\python\\pyspark\\rdd.py\u001b[0m in \u001b[0;36mstats\u001b[1;34m(self)\u001b[0m\n\u001b[0;32m   1012\u001b[0m             \u001b[1;32mreturn\u001b[0m \u001b[0mleft_counter\u001b[0m\u001b[1;33m.\u001b[0m\u001b[0mmergeStats\u001b[0m\u001b[1;33m(\u001b[0m\u001b[0mright_counter\u001b[0m\u001b[1;33m)\u001b[0m\u001b[1;33m\u001b[0m\u001b[0m\n\u001b[0;32m   1013\u001b[0m \u001b[1;33m\u001b[0m\u001b[0m\n\u001b[1;32m-> 1014\u001b[1;33m         \u001b[1;32mreturn\u001b[0m \u001b[0mself\u001b[0m\u001b[1;33m.\u001b[0m\u001b[0mmapPartitions\u001b[0m\u001b[1;33m(\u001b[0m\u001b[1;32mlambda\u001b[0m \u001b[0mi\u001b[0m\u001b[1;33m:\u001b[0m \u001b[1;33m[\u001b[0m\u001b[0mStatCounter\u001b[0m\u001b[1;33m(\u001b[0m\u001b[0mi\u001b[0m\u001b[1;33m)\u001b[0m\u001b[1;33m]\u001b[0m\u001b[1;33m)\u001b[0m\u001b[1;33m.\u001b[0m\u001b[0mreduce\u001b[0m\u001b[1;33m(\u001b[0m\u001b[0mredFunc\u001b[0m\u001b[1;33m)\u001b[0m\u001b[1;33m\u001b[0m\u001b[0m\n\u001b[0m\u001b[0;32m   1015\u001b[0m \u001b[1;33m\u001b[0m\u001b[0m\n\u001b[0;32m   1016\u001b[0m     \u001b[1;32mdef\u001b[0m \u001b[0mhistogram\u001b[0m\u001b[1;33m(\u001b[0m\u001b[0mself\u001b[0m\u001b[1;33m,\u001b[0m \u001b[0mbuckets\u001b[0m\u001b[1;33m)\u001b[0m\u001b[1;33m:\u001b[0m\u001b[1;33m\u001b[0m\u001b[0m\n",
      "\u001b[1;32mD:\\SOFT\\spark-1.6.1-bin-hadoop2.6\\python\\pyspark\\rdd.py\u001b[0m in \u001b[0;36mreduce\u001b[1;34m(self, f)\u001b[0m\n\u001b[0;32m    795\u001b[0m             \u001b[1;32myield\u001b[0m \u001b[0mreduce\u001b[0m\u001b[1;33m(\u001b[0m\u001b[0mf\u001b[0m\u001b[1;33m,\u001b[0m \u001b[0miterator\u001b[0m\u001b[1;33m,\u001b[0m \u001b[0minitial\u001b[0m\u001b[1;33m)\u001b[0m\u001b[1;33m\u001b[0m\u001b[0m\n\u001b[0;32m    796\u001b[0m \u001b[1;33m\u001b[0m\u001b[0m\n\u001b[1;32m--> 797\u001b[1;33m         \u001b[0mvals\u001b[0m \u001b[1;33m=\u001b[0m \u001b[0mself\u001b[0m\u001b[1;33m.\u001b[0m\u001b[0mmapPartitions\u001b[0m\u001b[1;33m(\u001b[0m\u001b[0mfunc\u001b[0m\u001b[1;33m)\u001b[0m\u001b[1;33m.\u001b[0m\u001b[0mcollect\u001b[0m\u001b[1;33m(\u001b[0m\u001b[1;33m)\u001b[0m\u001b[1;33m\u001b[0m\u001b[0m\n\u001b[0m\u001b[0;32m    798\u001b[0m         \u001b[1;32mif\u001b[0m \u001b[0mvals\u001b[0m\u001b[1;33m:\u001b[0m\u001b[1;33m\u001b[0m\u001b[0m\n\u001b[0;32m    799\u001b[0m             \u001b[1;32mreturn\u001b[0m \u001b[0mreduce\u001b[0m\u001b[1;33m(\u001b[0m\u001b[0mf\u001b[0m\u001b[1;33m,\u001b[0m \u001b[0mvals\u001b[0m\u001b[1;33m)\u001b[0m\u001b[1;33m\u001b[0m\u001b[0m\n",
      "\u001b[1;32mD:\\SOFT\\spark-1.6.1-bin-hadoop2.6\\python\\pyspark\\rdd.py\u001b[0m in \u001b[0;36mcollect\u001b[1;34m(self)\u001b[0m\n\u001b[0;32m    769\u001b[0m         \"\"\"\n\u001b[0;32m    770\u001b[0m         \u001b[1;32mwith\u001b[0m \u001b[0mSCCallSiteSync\u001b[0m\u001b[1;33m(\u001b[0m\u001b[0mself\u001b[0m\u001b[1;33m.\u001b[0m\u001b[0mcontext\u001b[0m\u001b[1;33m)\u001b[0m \u001b[1;32mas\u001b[0m \u001b[0mcss\u001b[0m\u001b[1;33m:\u001b[0m\u001b[1;33m\u001b[0m\u001b[0m\n\u001b[1;32m--> 771\u001b[1;33m             \u001b[0mport\u001b[0m \u001b[1;33m=\u001b[0m \u001b[0mself\u001b[0m\u001b[1;33m.\u001b[0m\u001b[0mctx\u001b[0m\u001b[1;33m.\u001b[0m\u001b[0m_jvm\u001b[0m\u001b[1;33m.\u001b[0m\u001b[0mPythonRDD\u001b[0m\u001b[1;33m.\u001b[0m\u001b[0mcollectAndServe\u001b[0m\u001b[1;33m(\u001b[0m\u001b[0mself\u001b[0m\u001b[1;33m.\u001b[0m\u001b[0m_jrdd\u001b[0m\u001b[1;33m.\u001b[0m\u001b[0mrdd\u001b[0m\u001b[1;33m(\u001b[0m\u001b[1;33m)\u001b[0m\u001b[1;33m)\u001b[0m\u001b[1;33m\u001b[0m\u001b[0m\n\u001b[0m\u001b[0;32m    772\u001b[0m         \u001b[1;32mreturn\u001b[0m \u001b[0mlist\u001b[0m\u001b[1;33m(\u001b[0m\u001b[0m_load_from_socket\u001b[0m\u001b[1;33m(\u001b[0m\u001b[0mport\u001b[0m\u001b[1;33m,\u001b[0m \u001b[0mself\u001b[0m\u001b[1;33m.\u001b[0m\u001b[0m_jrdd_deserializer\u001b[0m\u001b[1;33m)\u001b[0m\u001b[1;33m)\u001b[0m\u001b[1;33m\u001b[0m\u001b[0m\n\u001b[0;32m    773\u001b[0m \u001b[1;33m\u001b[0m\u001b[0m\n",
      "\u001b[1;32mD:\\SOFT\\spark-1.6.1-bin-hadoop2.6\\python\\lib\\py4j-0.9-src.zip\\py4j\\java_gateway.py\u001b[0m in \u001b[0;36m__call__\u001b[1;34m(self, *args)\u001b[0m\n\u001b[0;32m    811\u001b[0m         \u001b[0manswer\u001b[0m \u001b[1;33m=\u001b[0m \u001b[0mself\u001b[0m\u001b[1;33m.\u001b[0m\u001b[0mgateway_client\u001b[0m\u001b[1;33m.\u001b[0m\u001b[0msend_command\u001b[0m\u001b[1;33m(\u001b[0m\u001b[0mcommand\u001b[0m\u001b[1;33m)\u001b[0m\u001b[1;33m\u001b[0m\u001b[0m\n\u001b[0;32m    812\u001b[0m         return_value = get_return_value(\n\u001b[1;32m--> 813\u001b[1;33m             answer, self.gateway_client, self.target_id, self.name)\n\u001b[0m\u001b[0;32m    814\u001b[0m \u001b[1;33m\u001b[0m\u001b[0m\n\u001b[0;32m    815\u001b[0m         \u001b[1;32mfor\u001b[0m \u001b[0mtemp_arg\u001b[0m \u001b[1;32min\u001b[0m \u001b[0mtemp_args\u001b[0m\u001b[1;33m:\u001b[0m\u001b[1;33m\u001b[0m\u001b[0m\n",
      "\u001b[1;32mD:\\SOFT\\spark-1.6.1-bin-hadoop2.6\\python\\pyspark\\sql\\utils.py\u001b[0m in \u001b[0;36mdeco\u001b[1;34m(*a, **kw)\u001b[0m\n\u001b[0;32m     43\u001b[0m     \u001b[1;32mdef\u001b[0m \u001b[0mdeco\u001b[0m\u001b[1;33m(\u001b[0m\u001b[1;33m*\u001b[0m\u001b[0ma\u001b[0m\u001b[1;33m,\u001b[0m \u001b[1;33m**\u001b[0m\u001b[0mkw\u001b[0m\u001b[1;33m)\u001b[0m\u001b[1;33m:\u001b[0m\u001b[1;33m\u001b[0m\u001b[0m\n\u001b[0;32m     44\u001b[0m         \u001b[1;32mtry\u001b[0m\u001b[1;33m:\u001b[0m\u001b[1;33m\u001b[0m\u001b[0m\n\u001b[1;32m---> 45\u001b[1;33m             \u001b[1;32mreturn\u001b[0m \u001b[0mf\u001b[0m\u001b[1;33m(\u001b[0m\u001b[1;33m*\u001b[0m\u001b[0ma\u001b[0m\u001b[1;33m,\u001b[0m \u001b[1;33m**\u001b[0m\u001b[0mkw\u001b[0m\u001b[1;33m)\u001b[0m\u001b[1;33m\u001b[0m\u001b[0m\n\u001b[0m\u001b[0;32m     46\u001b[0m         \u001b[1;32mexcept\u001b[0m \u001b[0mpy4j\u001b[0m\u001b[1;33m.\u001b[0m\u001b[0mprotocol\u001b[0m\u001b[1;33m.\u001b[0m\u001b[0mPy4JJavaError\u001b[0m \u001b[1;32mas\u001b[0m \u001b[0me\u001b[0m\u001b[1;33m:\u001b[0m\u001b[1;33m\u001b[0m\u001b[0m\n\u001b[0;32m     47\u001b[0m             \u001b[0ms\u001b[0m \u001b[1;33m=\u001b[0m \u001b[0me\u001b[0m\u001b[1;33m.\u001b[0m\u001b[0mjava_exception\u001b[0m\u001b[1;33m.\u001b[0m\u001b[0mtoString\u001b[0m\u001b[1;33m(\u001b[0m\u001b[1;33m)\u001b[0m\u001b[1;33m\u001b[0m\u001b[0m\n",
      "\u001b[1;32mD:\\SOFT\\spark-1.6.1-bin-hadoop2.6\\python\\lib\\py4j-0.9-src.zip\\py4j\\protocol.py\u001b[0m in \u001b[0;36mget_return_value\u001b[1;34m(answer, gateway_client, target_id, name)\u001b[0m\n\u001b[0;32m    306\u001b[0m                 raise Py4JJavaError(\n\u001b[0;32m    307\u001b[0m                     \u001b[1;34m\"An error occurred while calling {0}{1}{2}.\\n\"\u001b[0m\u001b[1;33m.\u001b[0m\u001b[1;33m\u001b[0m\u001b[0m\n\u001b[1;32m--> 308\u001b[1;33m                     format(target_id, \".\", name), value)\n\u001b[0m\u001b[0;32m    309\u001b[0m             \u001b[1;32melse\u001b[0m\u001b[1;33m:\u001b[0m\u001b[1;33m\u001b[0m\u001b[0m\n\u001b[0;32m    310\u001b[0m                 raise Py4JError(\n",
      "\u001b[1;31mPy4JJavaError\u001b[0m: An error occurred while calling z:org.apache.spark.api.python.PythonRDD.collectAndServe.\n: org.apache.spark.SparkException: Job aborted due to stage failure: Task 1 in stage 103.0 failed 1 times, most recent failure: Lost task 1.0 in stage 103.0 (TID 178, localhost): org.apache.spark.api.python.PythonException: Traceback (most recent call last):\n  File \"D:\\SOFT\\spark-1.6.1-bin-hadoop2.6\\python\\lib\\pyspark.zip\\pyspark\\worker.py\", line 111, in main\n  File \"D:\\SOFT\\spark-1.6.1-bin-hadoop2.6\\python\\lib\\pyspark.zip\\pyspark\\worker.py\", line 106, in process\n  File \"D:\\SOFT\\spark-1.6.1-bin-hadoop2.6\\python\\pyspark\\rdd.py\", line 2346, in pipeline_func\n    return func(split, prev_func(split, iterator))\n  File \"D:\\SOFT\\spark-1.6.1-bin-hadoop2.6\\python\\pyspark\\rdd.py\", line 2346, in pipeline_func\n    return func(split, prev_func(split, iterator))\n  File \"D:\\SOFT\\spark-1.6.1-bin-hadoop2.6\\python\\pyspark\\rdd.py\", line 317, in func\n    return f(iterator)\n  File \"D:\\SOFT\\spark-1.6.1-bin-hadoop2.6\\python\\pyspark\\rdd.py\", line 1014, in <lambda>\n    return self.mapPartitions(lambda i: [StatCounter(i)]).reduce(redFunc)\n  File \"D:\\SOFT\\spark-1.6.1-bin-hadoop2.6\\python\\lib\\pyspark.zip\\pyspark\\statcounter.py\", line 42, in __init__\n    for v in values:\n  File \"<ipython-input-156-2e049d21c2c8>\", line 1, in <lambda>\nNameError: name 'folat' is not defined\n\r\n\tat org.apache.spark.api.python.PythonRunner$$anon$1.read(PythonRDD.scala:166)\r\n\tat org.apache.spark.api.python.PythonRunner$$anon$1.<init>(PythonRDD.scala:207)\r\n\tat org.apache.spark.api.python.PythonRunner.compute(PythonRDD.scala:125)\r\n\tat org.apache.spark.api.python.PythonRDD.compute(PythonRDD.scala:70)\r\n\tat org.apache.spark.rdd.RDD.computeOrReadCheckpoint(RDD.scala:306)\r\n\tat org.apache.spark.rdd.RDD.iterator(RDD.scala:270)\r\n\tat org.apache.spark.scheduler.ResultTask.runTask(ResultTask.scala:66)\r\n\tat org.apache.spark.scheduler.Task.run(Task.scala:89)\r\n\tat org.apache.spark.executor.Executor$TaskRunner.run(Executor.scala:214)\r\n\tat java.util.concurrent.ThreadPoolExecutor.runWorker(ThreadPoolExecutor.java:1142)\r\n\tat java.util.concurrent.ThreadPoolExecutor$Worker.run(ThreadPoolExecutor.java:617)\r\n\tat java.lang.Thread.run(Thread.java:745)\r\n\nDriver stacktrace:\r\n\tat org.apache.spark.scheduler.DAGScheduler.org$apache$spark$scheduler$DAGScheduler$$failJobAndIndependentStages(DAGScheduler.scala:1431)\r\n\tat org.apache.spark.scheduler.DAGScheduler$$anonfun$abortStage$1.apply(DAGScheduler.scala:1419)\r\n\tat org.apache.spark.scheduler.DAGScheduler$$anonfun$abortStage$1.apply(DAGScheduler.scala:1418)\r\n\tat scala.collection.mutable.ResizableArray$class.foreach(ResizableArray.scala:59)\r\n\tat scala.collection.mutable.ArrayBuffer.foreach(ArrayBuffer.scala:47)\r\n\tat org.apache.spark.scheduler.DAGScheduler.abortStage(DAGScheduler.scala:1418)\r\n\tat org.apache.spark.scheduler.DAGScheduler$$anonfun$handleTaskSetFailed$1.apply(DAGScheduler.scala:799)\r\n\tat org.apache.spark.scheduler.DAGScheduler$$anonfun$handleTaskSetFailed$1.apply(DAGScheduler.scala:799)\r\n\tat scala.Option.foreach(Option.scala:236)\r\n\tat org.apache.spark.scheduler.DAGScheduler.handleTaskSetFailed(DAGScheduler.scala:799)\r\n\tat org.apache.spark.scheduler.DAGSchedulerEventProcessLoop.doOnReceive(DAGScheduler.scala:1640)\r\n\tat org.apache.spark.scheduler.DAGSchedulerEventProcessLoop.onReceive(DAGScheduler.scala:1599)\r\n\tat org.apache.spark.scheduler.DAGSchedulerEventProcessLoop.onReceive(DAGScheduler.scala:1588)\r\n\tat org.apache.spark.util.EventLoop$$anon$1.run(EventLoop.scala:48)\r\n\tat org.apache.spark.scheduler.DAGScheduler.runJob(DAGScheduler.scala:620)\r\n\tat org.apache.spark.SparkContext.runJob(SparkContext.scala:1832)\r\n\tat org.apache.spark.SparkContext.runJob(SparkContext.scala:1845)\r\n\tat org.apache.spark.SparkContext.runJob(SparkContext.scala:1858)\r\n\tat org.apache.spark.SparkContext.runJob(SparkContext.scala:1929)\r\n\tat org.apache.spark.rdd.RDD$$anonfun$collect$1.apply(RDD.scala:927)\r\n\tat org.apache.spark.rdd.RDDOperationScope$.withScope(RDDOperationScope.scala:150)\r\n\tat org.apache.spark.rdd.RDDOperationScope$.withScope(RDDOperationScope.scala:111)\r\n\tat org.apache.spark.rdd.RDD.withScope(RDD.scala:316)\r\n\tat org.apache.spark.rdd.RDD.collect(RDD.scala:926)\r\n\tat org.apache.spark.api.python.PythonRDD$.collectAndServe(PythonRDD.scala:405)\r\n\tat org.apache.spark.api.python.PythonRDD.collectAndServe(PythonRDD.scala)\r\n\tat sun.reflect.GeneratedMethodAccessor78.invoke(Unknown Source)\r\n\tat sun.reflect.DelegatingMethodAccessorImpl.invoke(DelegatingMethodAccessorImpl.java:43)\r\n\tat java.lang.reflect.Method.invoke(Method.java:498)\r\n\tat py4j.reflection.MethodInvoker.invoke(MethodInvoker.java:231)\r\n\tat py4j.reflection.ReflectionEngine.invoke(ReflectionEngine.java:381)\r\n\tat py4j.Gateway.invoke(Gateway.java:259)\r\n\tat py4j.commands.AbstractCommand.invokeMethod(AbstractCommand.java:133)\r\n\tat py4j.commands.CallCommand.execute(CallCommand.java:79)\r\n\tat py4j.GatewayConnection.run(GatewayConnection.java:209)\r\n\tat java.lang.Thread.run(Thread.java:745)\r\nCaused by: org.apache.spark.api.python.PythonException: Traceback (most recent call last):\n  File \"D:\\SOFT\\spark-1.6.1-bin-hadoop2.6\\python\\lib\\pyspark.zip\\pyspark\\worker.py\", line 111, in main\n  File \"D:\\SOFT\\spark-1.6.1-bin-hadoop2.6\\python\\lib\\pyspark.zip\\pyspark\\worker.py\", line 106, in process\n  File \"D:\\SOFT\\spark-1.6.1-bin-hadoop2.6\\python\\pyspark\\rdd.py\", line 2346, in pipeline_func\n    return func(split, prev_func(split, iterator))\n  File \"D:\\SOFT\\spark-1.6.1-bin-hadoop2.6\\python\\pyspark\\rdd.py\", line 2346, in pipeline_func\n    return func(split, prev_func(split, iterator))\n  File \"D:\\SOFT\\spark-1.6.1-bin-hadoop2.6\\python\\pyspark\\rdd.py\", line 317, in func\n    return f(iterator)\n  File \"D:\\SOFT\\spark-1.6.1-bin-hadoop2.6\\python\\pyspark\\rdd.py\", line 1014, in <lambda>\n    return self.mapPartitions(lambda i: [StatCounter(i)]).reduce(redFunc)\n  File \"D:\\SOFT\\spark-1.6.1-bin-hadoop2.6\\python\\lib\\pyspark.zip\\pyspark\\statcounter.py\", line 42, in __init__\n    for v in values:\n  File \"<ipython-input-156-2e049d21c2c8>\", line 1, in <lambda>\nNameError: name 'folat' is not defined\n\r\n\tat org.apache.spark.api.python.PythonRunner$$anon$1.read(PythonRDD.scala:166)\r\n\tat org.apache.spark.api.python.PythonRunner$$anon$1.<init>(PythonRDD.scala:207)\r\n\tat org.apache.spark.api.python.PythonRunner.compute(PythonRDD.scala:125)\r\n\tat org.apache.spark.api.python.PythonRDD.compute(PythonRDD.scala:70)\r\n\tat org.apache.spark.rdd.RDD.computeOrReadCheckpoint(RDD.scala:306)\r\n\tat org.apache.spark.rdd.RDD.iterator(RDD.scala:270)\r\n\tat org.apache.spark.scheduler.ResultTask.runTask(ResultTask.scala:66)\r\n\tat org.apache.spark.scheduler.Task.run(Task.scala:89)\r\n\tat org.apache.spark.executor.Executor$TaskRunner.run(Executor.scala:214)\r\n\tat java.util.concurrent.ThreadPoolExecutor.runWorker(ThreadPoolExecutor.java:1142)\r\n\tat java.util.concurrent.ThreadPoolExecutor$Worker.run(ThreadPoolExecutor.java:617)\r\n\t... 1 more\r\n"
     ]
    }
   ],
   "source": [
    "okrecord.map(lambda x:folat(x[9])).stats()"
   ]
  },
  {
   "cell_type": "code",
   "execution_count": null,
   "metadata": {
    "collapsed": true
   },
   "outputs": [],
   "source": []
  }
 ],
 "metadata": {
  "kernelspec": {
   "display_name": "PySpark (Spark 1.5.2)",
   "language": "python",
   "name": "spark"
  },
  "language_info": {
   "codemirror_mode": {
    "name": "ipython",
    "version": 3
   },
   "file_extension": ".py",
   "mimetype": "text/x-python",
   "name": "python",
   "nbconvert_exporter": "python",
   "pygments_lexer": "ipython3",
   "version": "3.5.2"
  }
 },
 "nbformat": 4,
 "nbformat_minor": 0
}
