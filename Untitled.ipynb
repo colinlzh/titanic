{
 "cells": [
  {
   "cell_type": "code",
   "execution_count": 36,
   "metadata": {
    "collapsed": false
   },
   "outputs": [
    {
     "data": {
      "text/plain": [
       "<pyspark.context.SparkContext at 0x36e2330>"
      ]
     },
     "execution_count": 36,
     "metadata": {},
     "output_type": "execute_result"
    }
   ],
   "source": [
    "%matplotlib inline\n",
    "\n",
    "import matplotlib\n",
    "import numpy as np\n",
    "import matplotlib.pyplot as plt\n",
    "f=sc.textFile(\"train.csv\")\n",
    "f.take(10)\n",
    "sc"
   ]
  },
  {
   "cell_type": "code",
   "execution_count": 37,
   "metadata": {
    "collapsed": false
   },
   "outputs": [],
   "source": [
    "record=f.filter(lambda x:\".\" in x).map(lambda x:x.split(\",\")).map(lambda x:[x[a] for a in [0,1,2,5,6,7,8,10,12]])\n",
    "\n",
    "def stand(l):\n",
    "    l[3]=1 if l[3]==\"male\" else 0\n",
    "    l[4]=30 if l[4]==\"\" else l[4]\n",
    "    if l[-1]!=\"\":\n",
    "        l[-1]=l[-1].replace('S',\"0\").replace(\"C\",\"1\").replace(\"Q\",\"2\")\n",
    "    else:\n",
    "        l[-1]=\"0\"\n",
    "    return l\n",
    "okrecord=record.map(stand)"
   ]
  },
  {
   "cell_type": "code",
   "execution_count": 38,
   "metadata": {
    "collapsed": false
   },
   "outputs": [],
   "source": [
    "from pyspark.mllib.regression import LabeledPoint\n",
    "from pyspark.mllib.classification import LogisticRegressionWithLBFGS, LogisticRegressionModel,LogisticRegressionWithSGD\n",
    "from pyspark.mllib.classification import SVMWithSGD, SVMModel,NaiveBayes, NaiveBayesModel\n",
    "def evaluate(data,iteration,step):\n",
    "#     (trainingData, testData) = data.randomSplit([0.8, 0.2])\n",
    "    model2 = NaiveBayes.train(data,iteration)\n",
    "    # Evaluating the model on training data\n",
    "    labelsAndPreds2 = data.map(lambda p: (p.label, model2.predict(p.features)))\n",
    "    return labelsAndPreds2.filter(lambda x:x[0]==x[1]).count()\n",
    "parsedData=okrecord.map(lambda x:[float(a) for a in x]).map(lambda x:LabeledPoint(x[1],x[2:]))\n",
    "# iter=[0.01,0.05,0.10,0.20,0.50,1.0]\n",
    "# out=[evaluate(parsedData,it,0.1) for it in iter]\n",
    "# plt.plot(iter,out)"
   ]
  },
  {
   "cell_type": "code",
   "execution_count": 193,
   "metadata": {
    "collapsed": false
   },
   "outputs": [
    {
     "name": "stdout",
     "output_type": "stream",
     "text": [
      "[599, 618, 553, 580, 602, 549, 561]\n"
     ]
    }
   ],
   "source": [
    "out"
   ]
  },
  {
   "cell_type": "code",
   "execution_count": null,
   "metadata": {
    "collapsed": true
   },
   "outputs": [],
   "source": [
    "from pyspark.mllib.regression import LabeledPoint\n",
    "from pyspark.mllib.classification import LogisticRegressionWithLBFGS, LogisticRegressionModel\n",
    "from pyspark.mllib.classification import SVMWithSGD, SVMModel\n",
    "from pyspark.mllib.tree import RandomForest，GradientBoostedTrees, GradientBoostedTreesModel\n",
    "\n",
    "def evaluate(data,tree,deth,l2):\n",
    "    re=0\n",
    "    for i in range(10):\n",
    "        (trainingData, testData) = data.randomSplit([0.7, 0.3])\n",
    "        model = RandomForest.trainClassifier(trainingData, numClasses=2,\n",
    "                                         numTrees=tree, featureSubsetStrategy=\"auto\",categoricalFeaturesInfo={},\n",
    "                                         impurity='gini', maxDepth=deth, maxBins=32)\n",
    "    #     model2 = LogisticRegressionWithLBFGS.train(parsedData,iteration,regParam =l2,regType='l1')\n",
    "        # Evaluating the model on training data\n",
    "        predictions = model.predict(testData.map(lambda x: x.features))\n",
    "        labelsAndPreds2 = testData.map(lambda lp: lp.label).zip(predictions)\n",
    "        re+=labelsAndPreds2.filter(lambda x:x[0]==x[1]).count()\n",
    "#     labelsAndPreds2 = testData.map(lambda p: (p.label, model.predict(p.features)))\n",
    "    return re/10\n",
    "parsedData=okrecord.map(lambda x:[float(a) for a in x]).map(lambda x:LabeledPoint(x[1],x[2:]))\n",
    "iter=[1,2,3,4,5,6,7]\n",
    "out=[evaluate(parsedData,it,4,0)for it in iter]\n",
    "plt.plot(iter,out)"
   ]
  },
  {
   "cell_type": "code",
   "execution_count": 32,
   "metadata": {
    "collapsed": false,
    "scrolled": true
   },
   "outputs": [
    {
     "data": {
      "text/plain": [
       "[<matplotlib.lines.Line2D at 0x75526b0>]"
      ]
     },
     "execution_count": 32,
     "metadata": {},
     "output_type": "execute_result"
    },
    {
     "data": {
      "image/png": "[encoded data removed]",
      "text/plain": [
       "<matplotlib.figure.Figure at 0x741fe50>"
      ]
     },
     "metadata": {},
     "output_type": "display_data"
    }
   ],
   "source": [
    "from pyspark.mllib.regression import LabeledPoint\n",
    "from pyspark.mllib.classification import LogisticRegressionWithLBFGS, LogisticRegressionModel\n",
    "from pyspark.mllib.classification import SVMWithSGD, SVMModel\n",
    "from pyspark.mllib.tree import RandomForest\n",
    "from pyspark.mllib.tree import DecisionTree\n",
    "def evaluate(data,tree,deth,l2):\n",
    "    re=0\n",
    "    for i in range(2):\n",
    "        (trainingData, testData) = data.randomSplit([0.7, 0.3])\n",
    "        model=DecisionTree.trainClassifier(data, 2, {})\n",
    "        predictions = model.predict(testData.map(lambda x: x.features))\n",
    "        labelsAndPreds2 = testData.map(lambda lp: lp.label).zip(predictions)\n",
    "        re+=labelsAndPreds2.filter(lambda x:x[0]==x[1]).count()\n",
    "    return re/2\n",
    "dat=[]\n",
    "for i in range(1000):\n",
    "    temp=[]\n",
    "    a=random.randint(1,5000)\n",
    "    b=random.randint(1,5000)\n",
    "    temp.append(a)\n",
    "    temp.append(b)\n",
    "    if a>b:\n",
    "        temp.append(1)\n",
    "    else:\n",
    "        temp.append(0)\n",
    "    dat.append(temp)\n",
    "dat=sc.parallelize(dat)\n",
    "dat=dat.map(lambda x:LabeledPoint(x[2],x[:2]))\n",
    "iter=[1,2]\n",
    "out=[evaluate(dat,it,4,0)for it in iter]\n",
    "plt.plot(iter,out)"
   ]
  },
  {
   "cell_type": "code",
   "execution_count": 26,
   "metadata": {
    "collapsed": false
   },
   "outputs": [
    {
     "data": {
      "text/plain": [
       "1000"
      ]
     },
     "execution_count": 26,
     "metadata": {},
     "output_type": "execute_result"
    }
   ],
   "source": [
    "dat.count()"
   ]
  },
  {
   "cell_type": "code",
   "execution_count": 240,
   "metadata": {
    "collapsed": false
   },
   "outputs": [
    {
     "data": {
      "text/plain": [
       "[<matplotlib.lines.Line2D at 0x90c3050>]"
      ]
     },
     "execution_count": 240,
     "metadata": {},
     "output_type": "execute_result"
    },
    {
     "data": {
      "image/png": "[encoded data removed]",
      "text/plain": [
       "<matplotlib.figure.Figure at 0x8eaf250>"
      ]
     },
     "metadata": {},
     "output_type": "display_data"
    }
   ],
   "source": [
    "from pyspark.mllib.regression import LabeledPoint\n",
    "from pyspark.mllib.classification import LogisticRegressionWithLBFGS, LogisticRegressionModel\n",
    "from pyspark.mllib.classification import SVMWithSGD, SVMModel\n",
    "from pyspark.mllib.tree import RandomForest,GradientBoostedTrees, GradientBoostedTreesModel\n",
    "\n",
    "def evaluate(data,iteration,deth,l2):\n",
    "    re=0\n",
    "    for i in range(15):\n",
    "        (ndata, tdata) = data.randomSplit([0.7, 0.3])\n",
    "        model = GradientBoostedTrees.trainClassifier(ndata, {}, numIterations=iteration,maxDepth=deth,learningRate=l2)\n",
    "        predictions = model.predict(tdata.map(lambda x: x.features))\n",
    "        labelsAndPreds2 = tdata.map(lambda lp: lp.label).zip(predictions)\n",
    "        re+=labelsAndPreds2.filter(lambda x:x[0]==x[1]).count()\n",
    "    return re/15\n",
    "parsedData=okrecord.map(lambda x:[float(a) for a in x]).map(lambda x:LabeledPoint(x[1],x[2:]))\n",
    "iter=[1,2,3,4,5,7,9,11,13]\n",
    "out=[evaluate(parsedData,it,5,0.1)for it in iter]\n",
    "plt.plot(iter,out)"
   ]
  },
  {
   "cell_type": "code",
   "execution_count": 238,
   "metadata": {
    "collapsed": false
   },
   "outputs": [
    {
     "data": {
      "text/plain": [
       "[206.0, 227.0, 214.0, 215.8, 214.6, 212.6, 199.4, 211.6, 207.8]"
      ]
     },
     "execution_count": 238,
     "metadata": {},
     "output_type": "execute_result"
    }
   ],
   "source": [
    "out"
   ]
  },
  {
   "cell_type": "code",
   "execution_count": 222,
   "metadata": {
    "collapsed": false
   },
   "outputs": [
    {
     "data": {
      "text/plain": [
       "[222.2, 217.8, 226.6, 220.6, 211.0, 209.2, 222.2, 210.0]"
      ]
     },
     "execution_count": 222,
     "metadata": {},
     "output_type": "execute_result"
    }
   ],
   "source": [
    "out"
   ]
  },
  {
   "cell_type": "code",
   "execution_count": 220,
   "metadata": {
    "collapsed": false
   },
   "outputs": [
    {
     "data": {
      "text/plain": [
       "[218.2, 219.2, 214.8, 218.8, 218.0, 230.8, 221.6, 213.2]"
      ]
     },
     "execution_count": 220,
     "metadata": {},
     "output_type": "execute_result"
    }
   ],
   "source": [
    "out"
   ]
  },
  {
   "cell_type": "code",
   "execution_count": 39,
   "metadata": {
    "collapsed": false
   },
   "outputs": [],
   "source": [
    "f=sc.textFile(\"test.csv\")\n",
    "record=f.filter(lambda x:\".\" in x).map(lambda x:x.split(\",\")).map(lambda x:[x[a] for a in [0,1,4,5,6,7,9,11]])\n",
    "def stand(l):\n",
    "    l[2]=1 if l[2]==\"male\" else 0\n",
    "    l[3]=30 if l[3]==\"\" else l[3]\n",
    "    if l[-2]==\"\":\n",
    "        l[-2]=35\n",
    "    if l[-1]!=\"\":\n",
    "        l[-1]=l[-1].replace('S',\"0\").replace(\"C\",\"1\").replace(\"Q\",\"2\")\n",
    "    else:\n",
    "        l[-1]=\"0\"\n",
    "    return l\n",
    "testrecord=record.map(stand)"
   ]
  },
  {
   "cell_type": "code",
   "execution_count": 245,
   "metadata": {
    "collapsed": true
   },
   "outputs": [],
   "source": [
    "result=testrecord.map(lambda x:[float(a) for a in x]).map(lambda x:LabeledPoint(x[0],x[1:]))\n",
    "model = RandomForest.trainClassifier(parsedData, numClasses=2,\n",
    "                                 numTrees=4, featureSubsetStrategy=\"auto\",categoricalFeaturesInfo={},\n",
    "                                 impurity='gini', maxDepth=9, maxBins=32)\n",
    "#     model2 = LogisticRegressionWithLBFGS.train(parsedData,iteration,regParam =l2,regType='l1')\n",
    "# Evaluating the model on training data\n",
    "predictions = model.predict(result.map(lambda x: x.features))\n",
    "result = result.map(lambda lp: lp.label).zip(predictions).map(lambda x:str(int(x[0]))+\",\"+str(int(x[1]))+\"\\n\")\n",
    "a=result.collect()\n",
    "file_object = open('thefile2.csv', 'w')\n",
    "file_object.write(\"PassengerId,Survived\\n\")\n",
    "file_object.writelines(a)\n",
    "file_object.close( )"
   ]
  },
  {
   "cell_type": "code",
   "execution_count": 40,
   "metadata": {
    "collapsed": false
   },
   "outputs": [],
   "source": [
    "from pyspark.mllib.tree import RandomForest,GradientBoostedTrees, GradientBoostedTreesModel\n",
    "model = GradientBoostedTrees.trainClassifier(parsedData, {}, numIterations=13,maxDepth=4,learningRate=0.1)\n",
    "result=testrecord.map(lambda x:[float(a) for a in x]).map(lambda x:LabeledPoint(x[0],x[1:]))\n",
    "#     model2 = LogisticRegressionWithLBFGS.train(parsedData,iteration,regParam =l2,regType='l1')\n",
    "# Evaluating the model on training data\n",
    "predictions = model.predict(result.map(lambda x: x.features))\n",
    "result = result.map(lambda lp: lp.label).zip(predictions).map(lambda x:str(int(x[0]))+\",\"+str(int(x[1]))+\"\\n\")\n",
    "a=result.collect()\n",
    "file_object = open('thefile2.csv', 'w')\n",
    "file_object.write(\"PassengerId,Survived\\n\")\n",
    "file_object.writelines(a)\n",
    "file_object.close( )"
   ]
  },
  {
   "cell_type": "code",
   "execution_count": 186,
   "metadata": {
    "collapsed": false
   },
   "outputs": [],
   "source": [
    "result=testrecord.map(lambda x:[float(a) for a in x]).map(lambda x:LabeledPoint(x[0],x[1:]))\n",
    "model = LogisticRegressionWithLBFGS.train(parsedData,10,regParam =0,regType='l2')\n",
    "    # Evaluating the model on training data\n",
    "result = result.map(lambda p: (str(int(p.label))+\",\"+str(model.predict(p.features))+\"\\n\"))\n",
    "a=result.collect()\n",
    "file_object = open('thefile.csv', 'w')\n",
    "file_object.write(\"PassengerId,Survived\\n\")\n",
    "file_object.writelines(a)\n",
    "file_object.close( )"
   ]
  },
  {
   "cell_type": "code",
   "execution_count": 143,
   "metadata": {
    "collapsed": false,
    "scrolled": true
   },
   "outputs": [
    {
     "data": {
      "text/plain": [
       "(array([  24.,   16.,    7.,    7.,   10.,    5.,    8.,   23.,   39.,\n",
       "          40.,   52.,   46.,   42.,   43.,  224.,   37.,   32.,   41.,\n",
       "          18.,   27.,   21.,   14.,   17.,   18.,   16.,   13.,    9.,\n",
       "           7.,    7.,    6.,    7.,    4.,    4.,    0.,    2.,    3.,\n",
       "           1.,    0.,    0.,    1.]),\n",
       " array([  0.42  ,   2.4095,   4.399 ,   6.3885,   8.378 ,  10.3675,\n",
       "         12.357 ,  14.3465,  16.336 ,  18.3255,  20.315 ,  22.3045,\n",
       "         24.294 ,  26.2835,  28.273 ,  30.2625,  32.252 ,  34.2415,\n",
       "         36.231 ,  38.2205,  40.21  ,  42.1995,  44.189 ,  46.1785,\n",
       "         48.168 ,  50.1575,  52.147 ,  54.1365,  56.126 ,  58.1155,\n",
       "         60.105 ,  62.0945,  64.084 ,  66.0735,  68.063 ,  70.0525,\n",
       "         72.042 ,  74.0315,  76.021 ,  78.0105,  80.    ]),\n",
       " <a list of 40 Patch objects>)"
      ]
     },
     "execution_count": 143,
     "metadata": {},
     "output_type": "execute_result"
    },
    {
     "data": {
      "image/png": "[encoded data removed]",
      "text/plain": [
       "<matplotlib.figure.Figure at 0x657a710>"
      ]
     },
     "metadata": {},
     "output_type": "display_data"
    }
   ],
   "source": [
    "sex=okrecord.map(lambda x:float(x[4])).collect()\n",
    "fig, (ax1, ax2) = plt.subplots(1, 2, figsize = (8, 4))\n",
    "ax1.hist(sex,bins=10)\n",
    "ax2.hist(sex,bins=40)"
   ]
  },
  {
   "cell_type": "code",
   "execution_count": 156,
   "metadata": {
    "collapsed": false
   },
   "outputs": [
    {
     "ename": "Py4JJavaError",
     "evalue": "An error occurred while calling z:org.apache.spark.api.python.PythonRDD.collectAndServe.\n: org.apache.spark.SparkException: Job aborted due to stage failure: Task 1 in stage 103.0 failed 1 times, most recent failure: Lost task 1.0 in stage 103.0 (TID 178, localhost): org.apache.spark.api.python.PythonException: Traceback (most recent call last):\n  File \"D:\\SOFT\\spark-1.6.1-bin-hadoop2.6\\python\\lib\\pyspark.zip\\pyspark\\worker.py\", line 111, in main\n  File \"D:\\SOFT\\spark-1.6.1-bin-hadoop2.6\\python\\lib\\pyspark.zip\\pyspark\\worker.py\", line 106, in process\n  File \"D:\\SOFT\\spark-1.6.1-bin-hadoop2.6\\python\\pyspark\\rdd.py\", line 2346, in pipeline_func\n    return func(split, prev_func(split, iterator))\n  File \"D:\\SOFT\\spark-1.6.1-bin-hadoop2.6\\python\\pyspark\\rdd.py\", line 2346, in pipeline_func\n    return func(split, prev_func(split, iterator))\n  File \"D:\\SOFT\\spark-1.6.1-bin-hadoop2.6\\python\\pyspark\\rdd.py\", line 317, in func\n    return f(iterator)\n  File \"D:\\SOFT\\spark-1.6.1-bin-hadoop2.6\\python\\pyspark\\rdd.py\", line 1014, in <lambda>\n    return self.mapPartitions(lambda i: [StatCounter(i)]).reduce(redFunc)\n  File \"D:\\SOFT\\spark-1.6.1-bin-hadoop2.6\\python\\lib\\pyspark.zip\\pyspark\\statcounter.py\", line 42, in __init__\n    for v in values:\n  File \"<ipython-input-156-2e049d21c2c8>\", line 1, in <lambda>\nNameError: name 'folat' is not defined\n\r\n\tat org.apache.spark.api.python.PythonRunner$$anon$1.read(PythonRDD.scala:166)\r\n\tat org.apache.spark.api.python.PythonRunner$$anon$1.<init>(PythonRDD.scala:207)\r\n\tat org.apache.spark.api.python.PythonRunner.compute(PythonRDD.scala:125)\r\n\tat org.apache.spark.api.python.PythonRDD.compute(PythonRDD.scala:70)\r\n\tat org.apache.spark.rdd.RDD.computeOrReadCheckpoint(RDD.scala:306)\r\n\tat org.apache.spark.rdd.RDD.iterator(RDD.scala:270)\r\n\tat org.apache.spark.scheduler.ResultTask.runTask(ResultTask.scala:66)\r\n\tat org.apache.spark.scheduler.Task.run(Task.scala:89)\r\n\tat org.apache.spark.executor.Executor$TaskRunner.run(Executor.scala:214)\r\n\tat java.util.concurrent.ThreadPoolExecutor.runWorker(ThreadPoolExecutor.java:1142)\r\n\tat java.util.concurrent.ThreadPoolExecutor$Worker.run(ThreadPoolExecutor.java:617)\r\n\tat java.lang.Thread.run(Thread.java:745)\r\n\nDriver stacktrace:\r\n\tat org.apache.spark.scheduler.DAGScheduler.org$apache$spark$scheduler$DAGScheduler$$failJobAndIndependentStages(DAGScheduler.scala:1431)\r\n\tat org.apache.spark.scheduler.DAGScheduler$$anonfun$abortStage$1.apply(DAGScheduler.scala:1419)\r\n\tat org.apache.spark.scheduler.DAGScheduler$$anonfun$abortStage$1.apply(DAGScheduler.scala:1418)\r\n\tat scala.collection.mutable.ResizableArray$class.foreach(ResizableArray.scala:59)\r\n\tat scala.collection.mutable.ArrayBuffer.foreach(ArrayBuffer.scala:47)\r\n\tat org.apache.spark.scheduler.DAGScheduler.abortStage(DAGScheduler.scala:1418)\r\n\tat org.apache.spark.scheduler.DAGScheduler$$anonfun$handleTaskSetFailed$1.apply(DAGScheduler.scala:799)\r\n\tat org.apache.spark.scheduler.DAGScheduler$$anonfun$handleTaskSetFailed$1.apply(DAGScheduler.scala:799)\r\n\tat scala.Option.foreach(Option.scala:236)\r\n\tat org.apache.spark.scheduler.DAGScheduler.handleTaskSetFailed(DAGScheduler.scala:799)\r\n\tat org.apache.spark.scheduler.DAGSchedulerEventProcessLoop.doOnReceive(DAGScheduler.scala:1640)\r\n\tat org.apache.spark.scheduler.DAGSchedulerEventProcessLoop.onReceive(DAGScheduler.scala:1599)\r\n\tat org.apache.spark.scheduler.DAGSchedulerEventProcessLoop.onReceive(DAGScheduler.scala:1588)\r\n\tat org.apache.spark.util.EventLoop$$anon$1.run(EventLoop.scala:48)\r\n\tat org.apache.spark.scheduler.DAGScheduler.runJob(DAGScheduler.scala:620)\r\n\tat org.apache.spark.SparkContext.runJob(SparkContext.scala:1832)\r\n\tat org.apache.spark.SparkContext.runJob(SparkContext.scala:1845)\r\n\tat org.apache.spark.SparkContext.runJob(SparkContext.scala:1858)\r\n\tat org.apache.spark.SparkContext.runJob(SparkContext.scala:1929)\r\n\tat org.apache.spark.rdd.RDD$$anonfun$collect$1.apply(RDD.scala:927)\r\n\tat org.apache.spark.rdd.RDDOperationScope$.withScope(RDDOperationScope.scala:150)\r\n\tat org.apache.spark.rdd.RDDOperationScope$.withScope(RDDOperationScope.scala:111)\r\n\tat org.apache.spark.rdd.RDD.withScope(RDD.scala:316)\r\n\tat org.apache.spark.rdd.RDD.collect(RDD.scala:926)\r\n\tat org.apache.spark.api.python.PythonRDD$.collectAndServe(PythonRDD.scala:405)\r\n\tat org.apache.spark.api.python.PythonRDD.collectAndServe(PythonRDD.scala)\r\n\tat sun.reflect.GeneratedMethodAccessor78.invoke(Unknown Source)\r\n\tat sun.reflect.DelegatingMethodAccessorImpl.invoke(DelegatingMethodAccessorImpl.java:43)\r\n\tat java.lang.reflect.Method.invoke(Method.java:498)\r\n\tat py4j.reflection.MethodInvoker.invoke(MethodInvoker.java:231)\r\n\tat py4j.reflection.ReflectionEngine.invoke(ReflectionEngine.java:381)\r\n\tat py4j.Gateway.invoke(Gateway.java:259)\r\n\tat py4j.commands.AbstractCommand.invokeMethod(AbstractCommand.java:133)\r\n\tat py4j.commands.CallCommand.execute(CallCommand.java:79)\r\n\tat py4j.GatewayConnection.run(GatewayConnection.java:209)\r\n\tat java.lang.Thread.run(Thread.java:745)\r\nCaused by: org.apache.spark.api.python.PythonException: Traceback (most recent call last):\n  File \"D:\\SOFT\\spark-1.6.1-bin-hadoop2.6\\python\\lib\\pyspark.zip\\pyspark\\worker.py\", line 111, in main\n  File \"D:\\SOFT\\spark-1.6.1-bin-hadoop2.6\\python\\lib\\pyspark.zip\\pyspark\\worker.py\", line 106, in process\n  File \"D:\\SOFT\\spark-1.6.1-bin-hadoop2.6\\python\\pyspark\\rdd.py\", line 2346, in pipeline_func\n    return func(split, prev_func(split, iterator))\n  File \"D:\\SOFT\\spark-1.6.1-bin-hadoop2.6\\python\\pyspark\\rdd.py\", line 2346, in pipeline_func\n    return func(split, prev_func(split, iterator))\n  File \"D:\\SOFT\\spark-1.6.1-bin-hadoop2.6\\python\\pyspark\\rdd.py\", line 317, in func\n    return f(iterator)\n  File \"D:\\SOFT\\spark-1.6.1-bin-hadoop2.6\\python\\pyspark\\rdd.py\", line 1014, in <lambda>\n    return self.mapPartitions(lambda i: [StatCounter(i)]).reduce(redFunc)\n  File \"D:\\SOFT\\spark-1.6.1-bin-hadoop2.6\\python\\lib\\pyspark.zip\\pyspark\\statcounter.py\", line 42, in __init__\n    for v in values:\n  File \"<ipython-input-156-2e049d21c2c8>\", line 1, in <lambda>\nNameError: name 'folat' is not defined\n\r\n\tat org.apache.spark.api.python.PythonRunner$$anon$1.read(PythonRDD.scala:166)\r\n\tat org.apache.spark.api.python.PythonRunner$$anon$1.<init>(PythonRDD.scala:207)\r\n\tat org.apache.spark.api.python.PythonRunner.compute(PythonRDD.scala:125)\r\n\tat org.apache.spark.api.python.PythonRDD.compute(PythonRDD.scala:70)\r\n\tat org.apache.spark.rdd.RDD.computeOrReadCheckpoint(RDD.scala:306)\r\n\tat org.apache.spark.rdd.RDD.iterator(RDD.scala:270)\r\n\tat org.apache.spark.scheduler.ResultTask.runTask(ResultTask.scala:66)\r\n\tat org.apache.spark.scheduler.Task.run(Task.scala:89)\r\n\tat org.apache.spark.executor.Executor$TaskRunner.run(Executor.scala:214)\r\n\tat java.util.concurrent.ThreadPoolExecutor.runWorker(ThreadPoolExecutor.java:1142)\r\n\tat java.util.concurrent.ThreadPoolExecutor$Worker.run(ThreadPoolExecutor.java:617)\r\n\t... 1 more\r\n",
     "output_type": "error",
     "traceback": [
      "\u001b[1;31m---------------------------------------------------------------------------\u001b[0m",
      "\u001b[1;31mPy4JJavaError\u001b[0m                             Traceback (most recent call last)",
      "\u001b[1;32m<ipython-input-156-2e049d21c2c8>\u001b[0m in \u001b[0;36m<module>\u001b[1;34m()\u001b[0m\n\u001b[1;32m----> 1\u001b[1;33m \u001b[0mokrecord\u001b[0m\u001b[1;33m.\u001b[0m\u001b[0mmap\u001b[0m\u001b[1;33m(\u001b[0m\u001b[1;32mlambda\u001b[0m \u001b[0mx\u001b[0m\u001b[1;33m:\u001b[0m\u001b[0mfolat\u001b[0m\u001b[1;33m(\u001b[0m\u001b[0mx\u001b[0m\u001b[1;33m[\u001b[0m\u001b[1;36m9\u001b[0m\u001b[1;33m]\u001b[0m\u001b[1;33m)\u001b[0m\u001b[1;33m)\u001b[0m\u001b[1;33m.\u001b[0m\u001b[0mstats\u001b[0m\u001b[1;33m(\u001b[0m\u001b[1;33m)\u001b[0m\u001b[1;33m\u001b[0m\u001b[0m\n\u001b[0m",
      "\u001b[1;32mD:\\SOFT\\spark-1.6.1-bin-hadoop2.6\\python\\pyspark\\rdd.py\u001b[0m in \u001b[0;36mstats\u001b[1;34m(self)\u001b[0m\n\u001b[0;32m   1012\u001b[0m             \u001b[1;32mreturn\u001b[0m \u001b[0mleft_counter\u001b[0m\u001b[1;33m.\u001b[0m\u001b[0mmergeStats\u001b[0m\u001b[1;33m(\u001b[0m\u001b[0mright_counter\u001b[0m\u001b[1;33m)\u001b[0m\u001b[1;33m\u001b[0m\u001b[0m\n\u001b[0;32m   1013\u001b[0m \u001b[1;33m\u001b[0m\u001b[0m\n\u001b[1;32m-> 1014\u001b[1;33m         \u001b[1;32mreturn\u001b[0m \u001b[0mself\u001b[0m\u001b[1;33m.\u001b[0m\u001b[0mmapPartitions\u001b[0m\u001b[1;33m(\u001b[0m\u001b[1;32mlambda\u001b[0m \u001b[0mi\u001b[0m\u001b[1;33m:\u001b[0m \u001b[1;33m[\u001b[0m\u001b[0mStatCounter\u001b[0m\u001b[1;33m(\u001b[0m\u001b[0mi\u001b[0m\u001b[1;33m)\u001b[0m\u001b[1;33m]\u001b[0m\u001b[1;33m)\u001b[0m\u001b[1;33m.\u001b[0m\u001b[0mreduce\u001b[0m\u001b[1;33m(\u001b[0m\u001b[0mredFunc\u001b[0m\u001b[1;33m)\u001b[0m\u001b[1;33m\u001b[0m\u001b[0m\n\u001b[0m\u001b[0;32m   1015\u001b[0m \u001b[1;33m\u001b[0m\u001b[0m\n\u001b[0;32m   1016\u001b[0m     \u001b[1;32mdef\u001b[0m \u001b[0mhistogram\u001b[0m\u001b[1;33m(\u001b[0m\u001b[0mself\u001b[0m\u001b[1;33m,\u001b[0m \u001b[0mbuckets\u001b[0m\u001b[1;33m)\u001b[0m\u001b[1;33m:\u001b[0m\u001b[1;33m\u001b[0m\u001b[0m\n",
      "\u001b[1;32mD:\\SOFT\\spark-1.6.1-bin-hadoop2.6\\python\\pyspark\\rdd.py\u001b[0m in \u001b[0;36mreduce\u001b[1;34m(self, f)\u001b[0m\n\u001b[0;32m    795\u001b[0m             \u001b[1;32myield\u001b[0m \u001b[0mreduce\u001b[0m\u001b[1;33m(\u001b[0m\u001b[0mf\u001b[0m\u001b[1;33m,\u001b[0m \u001b[0miterator\u001b[0m\u001b[1;33m,\u001b[0m \u001b[0minitial\u001b[0m\u001b[1;33m)\u001b[0m\u001b[1;33m\u001b[0m\u001b[0m\n\u001b[0;32m    796\u001b[0m \u001b[1;33m\u001b[0m\u001b[0m\n\u001b[1;32m--> 797\u001b[1;33m         \u001b[0mvals\u001b[0m \u001b[1;33m=\u001b[0m \u001b[0mself\u001b[0m\u001b[1;33m.\u001b[0m\u001b[0mmapPartitions\u001b[0m\u001b[1;33m(\u001b[0m\u001b[0mfunc\u001b[0m\u001b[1;33m)\u001b[0m\u001b[1;33m.\u001b[0m\u001b[0mcollect\u001b[0m\u001b[1;33m(\u001b[0m\u001b[1;33m)\u001b[0m\u001b[1;33m\u001b[0m\u001b[0m\n\u001b[0m\u001b[0;32m    798\u001b[0m         \u001b[1;32mif\u001b[0m \u001b[0mvals\u001b[0m\u001b[1;33m:\u001b[0m\u001b[1;33m\u001b[0m\u001b[0m\n\u001b[0;32m    799\u001b[0m             \u001b[1;32mreturn\u001b[0m \u001b[0mreduce\u001b[0m\u001b[1;33m(\u001b[0m\u001b[0mf\u001b[0m\u001b[1;33m,\u001b[0m \u001b[0mvals\u001b[0m\u001b[1;33m)\u001b[0m\u001b[1;33m\u001b[0m\u001b[0m\n",
      "\u001b[1;32mD:\\SOFT\\spark-1.6.1-bin-hadoop2.6\\python\\pyspark\\rdd.py\u001b[0m in \u001b[0;36mcollect\u001b[1;34m(self)\u001b[0m\n\u001b[0;32m    769\u001b[0m         \"\"\"\n\u001b[0;32m    770\u001b[0m         \u001b[1;32mwith\u001b[0m \u001b[0mSCCallSiteSync\u001b[0m\u001b[1;33m(\u001b[0m\u001b[0mself\u001b[0m\u001b[1;33m.\u001b[0m\u001b[0mcontext\u001b[0m\u001b[1;33m)\u001b[0m \u001b[1;32mas\u001b[0m \u001b[0mcss\u001b[0m\u001b[1;33m:\u001b[0m\u001b[1;33m\u001b[0m\u001b[0m\n\u001b[1;32m--> 771\u001b[1;33m             \u001b[0mport\u001b[0m \u001b[1;33m=\u001b[0m \u001b[0mself\u001b[0m\u001b[1;33m.\u001b[0m\u001b[0mctx\u001b[0m\u001b[1;33m.\u001b[0m\u001b[0m_jvm\u001b[0m\u001b[1;33m.\u001b[0m\u001b[0mPythonRDD\u001b[0m\u001b[1;33m.\u001b[0m\u001b[0mcollectAndServe\u001b[0m\u001b[1;33m(\u001b[0m\u001b[0mself\u001b[0m\u001b[1;33m.\u001b[0m\u001b[0m_jrdd\u001b[0m\u001b[1;33m.\u001b[0m\u001b[0mrdd\u001b[0m\u001b[1;33m(\u001b[0m\u001b[1;33m)\u001b[0m\u001b[1;33m)\u001b[0m\u001b[1;33m\u001b[0m\u001b[0m\n\u001b[0m\u001b[0;32m    772\u001b[0m         \u001b[1;32mreturn\u001b[0m \u001b[0mlist\u001b[0m\u001b[1;33m(\u001b[0m\u001b[0m_load_from_socket\u001b[0m\u001b[1;33m(\u001b[0m\u001b[0mport\u001b[0m\u001b[1;33m,\u001b[0m \u001b[0mself\u001b[0m\u001b[1;33m.\u001b[0m\u001b[0m_jrdd_deserializer\u001b[0m\u001b[1;33m)\u001b[0m\u001b[1;33m)\u001b[0m\u001b[1;33m\u001b[0m\u001b[0m\n\u001b[0;32m    773\u001b[0m \u001b[1;33m\u001b[0m\u001b[0m\n",
      "\u001b[1;32mD:\\SOFT\\spark-1.6.1-bin-hadoop2.6\\python\\lib\\py4j-0.9-src.zip\\py4j\\java_gateway.py\u001b[0m in \u001b[0;36m__call__\u001b[1;34m(self, *args)\u001b[0m\n\u001b[0;32m    811\u001b[0m         \u001b[0manswer\u001b[0m \u001b[1;33m=\u001b[0m \u001b[0mself\u001b[0m\u001b[1;33m.\u001b[0m\u001b[0mgateway_client\u001b[0m\u001b[1;33m.\u001b[0m\u001b[0msend_command\u001b[0m\u001b[1;33m(\u001b[0m\u001b[0mcommand\u001b[0m\u001b[1;33m)\u001b[0m\u001b[1;33m\u001b[0m\u001b[0m\n\u001b[0;32m    812\u001b[0m         return_value = get_return_value(\n\u001b[1;32m--> 813\u001b[1;33m             answer, self.gateway_client, self.target_id, self.name)\n\u001b[0m\u001b[0;32m    814\u001b[0m \u001b[1;33m\u001b[0m\u001b[0m\n\u001b[0;32m    815\u001b[0m         \u001b[1;32mfor\u001b[0m \u001b[0mtemp_arg\u001b[0m \u001b[1;32min\u001b[0m \u001b[0mtemp_args\u001b[0m\u001b[1;33m:\u001b[0m\u001b[1;33m\u001b[0m\u001b[0m\n",
      "\u001b[1;32mD:\\SOFT\\spark-1.6.1-bin-hadoop2.6\\python\\pyspark\\sql\\utils.py\u001b[0m in \u001b[0;36mdeco\u001b[1;34m(*a, **kw)\u001b[0m\n\u001b[0;32m     43\u001b[0m     \u001b[1;32mdef\u001b[0m \u001b[0mdeco\u001b[0m\u001b[1;33m(\u001b[0m\u001b[1;33m*\u001b[0m\u001b[0ma\u001b[0m\u001b[1;33m,\u001b[0m \u001b[1;33m**\u001b[0m\u001b[0mkw\u001b[0m\u001b[1;33m)\u001b[0m\u001b[1;33m:\u001b[0m\u001b[1;33m\u001b[0m\u001b[0m\n\u001b[0;32m     44\u001b[0m         \u001b[1;32mtry\u001b[0m\u001b[1;33m:\u001b[0m\u001b[1;33m\u001b[0m\u001b[0m\n\u001b[1;32m---> 45\u001b[1;33m             \u001b[1;32mreturn\u001b[0m \u001b[0mf\u001b[0m\u001b[1;33m(\u001b[0m\u001b[1;33m*\u001b[0m\u001b[0ma\u001b[0m\u001b[1;33m,\u001b[0m \u001b[1;33m**\u001b[0m\u001b[0mkw\u001b[0m\u001b[1;33m)\u001b[0m\u001b[1;33m\u001b[0m\u001b[0m\n\u001b[0m\u001b[0;32m     46\u001b[0m         \u001b[1;32mexcept\u001b[0m \u001b[0mpy4j\u001b[0m\u001b[1;33m.\u001b[0m\u001b[0mprotocol\u001b[0m\u001b[1;33m.\u001b[0m\u001b[0mPy4JJavaError\u001b[0m \u001b[1;32mas\u001b[0m \u001b[0me\u001b[0m\u001b[1;33m:\u001b[0m\u001b[1;33m\u001b[0m\u001b[0m\n\u001b[0;32m     47\u001b[0m             \u001b[0ms\u001b[0m \u001b[1;33m=\u001b[0m \u001b[0me\u001b[0m\u001b[1;33m.\u001b[0m\u001b[0mjava_exception\u001b[0m\u001b[1;33m.\u001b[0m\u001b[0mtoString\u001b[0m\u001b[1;33m(\u001b[0m\u001b[1;33m)\u001b[0m\u001b[1;33m\u001b[0m\u001b[0m\n",
      "\u001b[1;32mD:\\SOFT\\spark-1.6.1-bin-hadoop2.6\\python\\lib\\py4j-0.9-src.zip\\py4j\\protocol.py\u001b[0m in \u001b[0;36mget_return_value\u001b[1;34m(answer, gateway_client, target_id, name)\u001b[0m\n\u001b[0;32m    306\u001b[0m                 raise Py4JJavaError(\n\u001b[0;32m    307\u001b[0m                     \u001b[1;34m\"An error occurred while calling {0}{1}{2}.\\n\"\u001b[0m\u001b[1;33m.\u001b[0m\u001b[1;33m\u001b[0m\u001b[0m\n\u001b[1;32m--> 308\u001b[1;33m                     format(target_id, \".\", name), value)\n\u001b[0m\u001b[0;32m    309\u001b[0m             \u001b[1;32melse\u001b[0m\u001b[1;33m:\u001b[0m\u001b[1;33m\u001b[0m\u001b[0m\n\u001b[0;32m    310\u001b[0m                 raise Py4JError(\n",
      "\u001b[1;31mPy4JJavaError\u001b[0m: An error occurred while calling z:org.apache.spark.api.python.PythonRDD.collectAndServe.\n: org.apache.spark.SparkException: Job aborted due to stage failure: Task 1 in stage 103.0 failed 1 times, most recent failure: Lost task 1.0 in stage 103.0 (TID 178, localhost): org.apache.spark.api.python.PythonException: Traceback (most recent call last):\n  File \"D:\\SOFT\\spark-1.6.1-bin-hadoop2.6\\python\\lib\\pyspark.zip\\pyspark\\worker.py\", line 111, in main\n  File \"D:\\SOFT\\spark-1.6.1-bin-hadoop2.6\\python\\lib\\pyspark.zip\\pyspark\\worker.py\", line 106, in process\n  File \"D:\\SOFT\\spark-1.6.1-bin-hadoop2.6\\python\\pyspark\\rdd.py\", line 2346, in pipeline_func\n    return func(split, prev_func(split, iterator))\n  File \"D:\\SOFT\\spark-1.6.1-bin-hadoop2.6\\python\\pyspark\\rdd.py\", line 2346, in pipeline_func\n    return func(split, prev_func(split, iterator))\n  File \"D:\\SOFT\\spark-1.6.1-bin-hadoop2.6\\python\\pyspark\\rdd.py\", line 317, in func\n    return f(iterator)\n  File \"D:\\SOFT\\spark-1.6.1-bin-hadoop2.6\\python\\pyspark\\rdd.py\", line 1014, in <lambda>\n    return self.mapPartitions(lambda i: [StatCounter(i)]).reduce(redFunc)\n  File \"D:\\SOFT\\spark-1.6.1-bin-hadoop2.6\\python\\lib\\pyspark.zip\\pyspark\\statcounter.py\", line 42, in __init__\n    for v in values:\n  File \"<ipython-input-156-2e049d21c2c8>\", line 1, in <lambda>\nNameError: name 'folat' is not defined\n\r\n\tat org.apache.spark.api.python.PythonRunner$$anon$1.read(PythonRDD.scala:166)\r\n\tat org.apache.spark.api.python.PythonRunner$$anon$1.<init>(PythonRDD.scala:207)\r\n\tat org.apache.spark.api.python.PythonRunner.compute(PythonRDD.scala:125)\r\n\tat org.apache.spark.api.python.PythonRDD.compute(PythonRDD.scala:70)\r\n\tat org.apache.spark.rdd.RDD.computeOrReadCheckpoint(RDD.scala:306)\r\n\tat org.apache.spark.rdd.RDD.iterator(RDD.scala:270)\r\n\tat org.apache.spark.scheduler.ResultTask.runTask(ResultTask.scala:66)\r\n\tat org.apache.spark.scheduler.Task.run(Task.scala:89)\r\n\tat org.apache.spark.executor.Executor$TaskRunner.run(Executor.scala:214)\r\n\tat java.util.concurrent.ThreadPoolExecutor.runWorker(ThreadPoolExecutor.java:1142)\r\n\tat java.util.concurrent.ThreadPoolExecutor$Worker.run(ThreadPoolExecutor.java:617)\r\n\tat java.lang.Thread.run(Thread.java:745)\r\n\nDriver stacktrace:\r\n\tat org.apache.spark.scheduler.DAGScheduler.org$apache$spark$scheduler$DAGScheduler$$failJobAndIndependentStages(DAGScheduler.scala:1431)\r\n\tat org.apache.spark.scheduler.DAGScheduler$$anonfun$abortStage$1.apply(DAGScheduler.scala:1419)\r\n\tat org.apache.spark.scheduler.DAGScheduler$$anonfun$abortStage$1.apply(DAGScheduler.scala:1418)\r\n\tat scala.collection.mutable.ResizableArray$class.foreach(ResizableArray.scala:59)\r\n\tat scala.collection.mutable.ArrayBuffer.foreach(ArrayBuffer.scala:47)\r\n\tat org.apache.spark.scheduler.DAGScheduler.abortStage(DAGScheduler.scala:1418)\r\n\tat org.apache.spark.scheduler.DAGScheduler$$anonfun$handleTaskSetFailed$1.apply(DAGScheduler.scala:799)\r\n\tat org.apache.spark.scheduler.DAGScheduler$$anonfun$handleTaskSetFailed$1.apply(DAGScheduler.scala:799)\r\n\tat scala.Option.foreach(Option.scala:236)\r\n\tat org.apache.spark.scheduler.DAGScheduler.handleTaskSetFailed(DAGScheduler.scala:799)\r\n\tat org.apache.spark.scheduler.DAGSchedulerEventProcessLoop.doOnReceive(DAGScheduler.scala:1640)\r\n\tat org.apache.spark.scheduler.DAGSchedulerEventProcessLoop.onReceive(DAGScheduler.scala:1599)\r\n\tat org.apache.spark.scheduler.DAGSchedulerEventProcessLoop.onReceive(DAGScheduler.scala:1588)\r\n\tat org.apache.spark.util.EventLoop$$anon$1.run(EventLoop.scala:48)\r\n\tat org.apache.spark.scheduler.DAGScheduler.runJob(DAGScheduler.scala:620)\r\n\tat org.apache.spark.SparkContext.runJob(SparkContext.scala:1832)\r\n\tat org.apache.spark.SparkContext.runJob(SparkContext.scala:1845)\r\n\tat org.apache.spark.SparkContext.runJob(SparkContext.scala:1858)\r\n\tat org.apache.spark.SparkContext.runJob(SparkContext.scala:1929)\r\n\tat org.apache.spark.rdd.RDD$$anonfun$collect$1.apply(RDD.scala:927)\r\n\tat org.apache.spark.rdd.RDDOperationScope$.withScope(RDDOperationScope.scala:150)\r\n\tat org.apache.spark.rdd.RDDOperationScope$.withScope(RDDOperationScope.scala:111)\r\n\tat org.apache.spark.rdd.RDD.withScope(RDD.scala:316)\r\n\tat org.apache.spark.rdd.RDD.collect(RDD.scala:926)\r\n\tat org.apache.spark.api.python.PythonRDD$.collectAndServe(PythonRDD.scala:405)\r\n\tat org.apache.spark.api.python.PythonRDD.collectAndServe(PythonRDD.scala)\r\n\tat sun.reflect.GeneratedMethodAccessor78.invoke(Unknown Source)\r\n\tat sun.reflect.DelegatingMethodAccessorImpl.invoke(DelegatingMethodAccessorImpl.java:43)\r\n\tat java.lang.reflect.Method.invoke(Method.java:498)\r\n\tat py4j.reflection.MethodInvoker.invoke(MethodInvoker.java:231)\r\n\tat py4j.reflection.ReflectionEngine.invoke(ReflectionEngine.java:381)\r\n\tat py4j.Gateway.invoke(Gateway.java:259)\r\n\tat py4j.commands.AbstractCommand.invokeMethod(AbstractCommand.java:133)\r\n\tat py4j.commands.CallCommand.execute(CallCommand.java:79)\r\n\tat py4j.GatewayConnection.run(GatewayConnection.java:209)\r\n\tat java.lang.Thread.run(Thread.java:745)\r\nCaused by: org.apache.spark.api.python.PythonException: Traceback (most recent call last):\n  File \"D:\\SOFT\\spark-1.6.1-bin-hadoop2.6\\python\\lib\\pyspark.zip\\pyspark\\worker.py\", line 111, in main\n  File \"D:\\SOFT\\spark-1.6.1-bin-hadoop2.6\\python\\lib\\pyspark.zip\\pyspark\\worker.py\", line 106, in process\n  File \"D:\\SOFT\\spark-1.6.1-bin-hadoop2.6\\python\\pyspark\\rdd.py\", line 2346, in pipeline_func\n    return func(split, prev_func(split, iterator))\n  File \"D:\\SOFT\\spark-1.6.1-bin-hadoop2.6\\python\\pyspark\\rdd.py\", line 2346, in pipeline_func\n    return func(split, prev_func(split, iterator))\n  File \"D:\\SOFT\\spark-1.6.1-bin-hadoop2.6\\python\\pyspark\\rdd.py\", line 317, in func\n    return f(iterator)\n  File \"D:\\SOFT\\spark-1.6.1-bin-hadoop2.6\\python\\pyspark\\rdd.py\", line 1014, in <lambda>\n    return self.mapPartitions(lambda i: [StatCounter(i)]).reduce(redFunc)\n  File \"D:\\SOFT\\spark-1.6.1-bin-hadoop2.6\\python\\lib\\pyspark.zip\\pyspark\\statcounter.py\", line 42, in __init__\n    for v in values:\n  File \"<ipython-input-156-2e049d21c2c8>\", line 1, in <lambda>\nNameError: name 'folat' is not defined\n\r\n\tat org.apache.spark.api.python.PythonRunner$$anon$1.read(PythonRDD.scala:166)\r\n\tat org.apache.spark.api.python.PythonRunner$$anon$1.<init>(PythonRDD.scala:207)\r\n\tat org.apache.spark.api.python.PythonRunner.compute(PythonRDD.scala:125)\r\n\tat org.apache.spark.api.python.PythonRDD.compute(PythonRDD.scala:70)\r\n\tat org.apache.spark.rdd.RDD.computeOrReadCheckpoint(RDD.scala:306)\r\n\tat org.apache.spark.rdd.RDD.iterator(RDD.scala:270)\r\n\tat org.apache.spark.scheduler.ResultTask.runTask(ResultTask.scala:66)\r\n\tat org.apache.spark.scheduler.Task.run(Task.scala:89)\r\n\tat org.apache.spark.executor.Executor$TaskRunner.run(Executor.scala:214)\r\n\tat java.util.concurrent.ThreadPoolExecutor.runWorker(ThreadPoolExecutor.java:1142)\r\n\tat java.util.concurrent.ThreadPoolExecutor$Worker.run(ThreadPoolExecutor.java:617)\r\n\t... 1 more\r\n"
     ]
    }
   ],
   "source": [
    "okrecord.map(lambda x:folat(x[9])).stats()"
   ]
  },
  {
   "cell_type": "code",
   "execution_count": null,
   "metadata": {
    "collapsed": true
   },
   "outputs": [],
   "source": []
  }
 ],
 "metadata": {
  "kernelspec": {
   "display_name": "PySpark (Spark 1.5.2)",
   "language": "python",
   "name": "spark"
  },
  "language_info": {
   "codemirror_mode": {
    "name": "ipython",
    "version": 3
   },
   "file_extension": ".py",
   "mimetype": "text/x-python",
   "name": "python",
   "nbconvert_exporter": "python",
   "pygments_lexer": "ipython3",
   "version": "3.4.3"
  }
 },
 "nbformat": 4,
 "nbformat_minor": 0
}
